{
 "cells": [
  {
   "cell_type": "code",
   "execution_count": 1,
   "metadata": {},
   "outputs": [],
   "source": [
    "%matplotlib inline\n",
    "import pylab as plt\n",
    "import numpy as np\n",
    "import warnings; warnings.simplefilter('ignore')"
   ]
  },
  {
   "cell_type": "markdown",
   "metadata": {},
   "source": [
    "# Vaex demo by Maarten Breddels\n",
    "## install \n",
    " * conda install -c conda-forge vaex\n",
    " * pip install --pre vaex\n",
    " \n",
    "# What it is?\n",
    "  * pandas like dataframe library for large datasets ($\\sim 10^9$ rows)\n",
    "  * mmap columnar data\n",
    "  * zero memory copy policy\n",
    "  * statistics on N-d grids ($+10^9$ rows/s)\n",
    "  * viz built in\n"
   ]
  },
  {
   "cell_type": "code",
   "execution_count": 2,
   "metadata": {},
   "outputs": [],
   "source": [
    "import vaex"
   ]
  },
  {
   "cell_type": "code",
   "execution_count": 3,
   "metadata": {},
   "outputs": [
    {
     "name": "stdout",
     "output_type": "stream",
     "text": [
      "-rw-r--r--  1 maartenbreddels  staff    23G Oct 31 17:56 /Users/maartenbreddels/datasets/nytaxi/nyc_taxi2015.arrow\r\n",
      "-rw-r--r--@ 1 maartenbreddels  staff    23G Oct 17 15:24 /Users/maartenbreddels/datasets/nytaxi/nyc_taxi2015.hdf5\r\n"
     ]
    }
   ],
   "source": [
    "ls -lh /Users/maartenbreddels/datasets/nytaxi/nyc_taxi2015.*"
   ]
  },
  {
   "cell_type": "code",
   "execution_count": 5,
   "metadata": {},
   "outputs": [
    {
     "data": {
      "text/html": [
       "<table>\n",
       "<thead>\n",
       "<tr><th>#                                      </th><th>VendorID  </th><th>dropoff_dayofweek  </th><th>dropoff_hour  </th><th>dropoff_latitude  </th><th>dropoff_longitude  </th><th>extra  </th><th>fare_amount  </th><th>improvement_surcharge  </th><th>mta_tax  </th><th>passenger_count  </th><th>payment_type  </th><th>pickup_dayofweek  </th><th>pickup_hour  </th><th>pickup_latitude   </th><th>pickup_longitude  </th><th>tip_amount  </th><th>tolls_amount  </th><th>total_amount  </th><th>tpep_dropoff_datetime        </th><th>tpep_pickup_datetime         </th><th>trip_distance  </th></tr>\n",
       "</thead>\n",
       "<tbody>\n",
       "<tr><td><i style='opacity: 0.6'>0</i>          </td><td>2         </td><td>3.0                </td><td>19.0          </td><td>40.75061798095703 </td><td>-73.97478485107422 </td><td>1.0    </td><td>12.0         </td><td>0.3                    </td><td>0.5      </td><td>1                </td><td>1             </td><td>3.0               </td><td>19.0         </td><td>40.7501106262207  </td><td>-73.993896484375  </td><td>3.25        </td><td>0.0           </td><td>17.05         </td><td>2015-01-15T19:23:42.000000000</td><td>2015-01-15T19:05:39.000000000</td><td>1.59           </td></tr>\n",
       "<tr><td><i style='opacity: 0.6'>1</i>          </td><td>1         </td><td>5.0                </td><td>20.0          </td><td>40.75910949707031 </td><td>-73.99441528320312 </td><td>0.5    </td><td>14.5         </td><td>0.3                    </td><td>0.5      </td><td>1                </td><td>1             </td><td>5.0               </td><td>20.0         </td><td>40.7242431640625  </td><td>-74.00164794921875</td><td>2.0         </td><td>0.0           </td><td>17.8          </td><td>2015-01-10T20:53:28.000000000</td><td>2015-01-10T20:33:38.000000000</td><td>3.3            </td></tr>\n",
       "<tr><td><i style='opacity: 0.6'>2</i>          </td><td>1         </td><td>5.0                </td><td>20.0          </td><td>40.82441329956055 </td><td>-73.95182037353516 </td><td>0.5    </td><td>9.5          </td><td>0.3                    </td><td>0.5      </td><td>1                </td><td>2             </td><td>5.0               </td><td>20.0         </td><td>40.80278778076172 </td><td>-73.96334075927734</td><td>0.0         </td><td>0.0           </td><td>10.8          </td><td>2015-01-10T20:43:41.000000000</td><td>2015-01-10T20:33:38.000000000</td><td>1.8            </td></tr>\n",
       "<tr><td><i style='opacity: 0.6'>3</i>          </td><td>1         </td><td>5.0                </td><td>20.0          </td><td>40.71998596191406 </td><td>-74.00432586669923 </td><td>0.5    </td><td>3.5          </td><td>0.3                    </td><td>0.5      </td><td>1                </td><td>2             </td><td>5.0               </td><td>20.0         </td><td>40.71381759643555 </td><td>-74.00908660888672</td><td>0.0         </td><td>0.0           </td><td>4.8           </td><td>2015-01-10T20:35:31.000000000</td><td>2015-01-10T20:33:39.000000000</td><td>0.5            </td></tr>\n",
       "<tr><td><i style='opacity: 0.6'>4</i>          </td><td>1         </td><td>5.0                </td><td>20.0          </td><td>40.742652893066406</td><td>-74.00418090820312 </td><td>0.5    </td><td>15.0         </td><td>0.3                    </td><td>0.5      </td><td>1                </td><td>2             </td><td>5.0               </td><td>20.0         </td><td>40.762428283691406</td><td>-73.97117614746094</td><td>0.0         </td><td>0.0           </td><td>16.3          </td><td>2015-01-10T20:52:58.000000000</td><td>2015-01-10T20:33:39.000000000</td><td>3.0            </td></tr>\n",
       "<tr><td>...                                    </td><td>...       </td><td>...                </td><td>...           </td><td>...               </td><td>...                </td><td>...    </td><td>...          </td><td>...                    </td><td>...      </td><td>...              </td><td>...           </td><td>...               </td><td>...          </td><td>...               </td><td>...               </td><td>...         </td><td>...           </td><td>...           </td><td>...                          </td><td>...                          </td><td>...            </td></tr>\n",
       "<tr><td><i style='opacity: 0.6'>146,112,984</i></td><td>2         </td><td>4.0                </td><td>0.0           </td><td>40.722469329833984</td><td>-73.98621368408203 </td><td>0.5    </td><td>7.5          </td><td>0.3                    </td><td>0.5      </td><td>5                </td><td>1             </td><td>3.0               </td><td>23.0         </td><td>40.72087097167969 </td><td>-73.99381256103516</td><td>1.76        </td><td>0.0           </td><td>10.56         </td><td>2016-01-01T00:08:18.000000000</td><td>2015-12-31T23:59:56.000000000</td><td>1.2            </td></tr>\n",
       "<tr><td><i style='opacity: 0.6'>146,112,985</i></td><td>1         </td><td>4.0                </td><td>0.0           </td><td>40.75238800048828 </td><td>-73.93951416015625 </td><td>0.5    </td><td>7.5          </td><td>0.3                    </td><td>0.5      </td><td>2                </td><td>2             </td><td>3.0               </td><td>23.0         </td><td>40.76028060913085 </td><td>-73.96527099609375</td><td>0.0         </td><td>0.0           </td><td>8.8           </td><td>2016-01-01T00:05:19.000000000</td><td>2015-12-31T23:59:58.000000000</td><td>2.0            </td></tr>\n",
       "<tr><td><i style='opacity: 0.6'>146,112,986</i></td><td>1         </td><td>4.0                </td><td>0.0           </td><td>40.69329833984375 </td><td>-73.9886703491211  </td><td>0.5    </td><td>13.5         </td><td>0.3                    </td><td>0.5      </td><td>2                </td><td>2             </td><td>3.0               </td><td>23.0         </td><td>40.73907852172852 </td><td>-73.98729705810547</td><td>0.0         </td><td>0.0           </td><td>14.8          </td><td>2016-01-01T00:12:55.000000000</td><td>2015-12-31T23:59:59.000000000</td><td>3.8            </td></tr>\n",
       "<tr><td><i style='opacity: 0.6'>146,112,987</i></td><td>2         </td><td>4.0                </td><td>0.0           </td><td>40.705322265625   </td><td>-74.01712036132812 </td><td>0.5    </td><td>8.5          </td><td>0.3                    </td><td>0.5      </td><td>1                </td><td>2             </td><td>3.0               </td><td>23.0         </td><td>40.72569274902344 </td><td>-73.99755859375   </td><td>0.0         </td><td>0.0           </td><td>9.8           </td><td>2016-01-01T00:10:26.000000000</td><td>2015-12-31T23:59:59.000000000</td><td>1.96           </td></tr>\n",
       "<tr><td><i style='opacity: 0.6'>146,112,988</i></td><td>2         </td><td>4.0                </td><td>0.0           </td><td>40.76057052612305 </td><td>-73.99098205566406 </td><td>0.5    </td><td>13.5         </td><td>0.3                    </td><td>0.5      </td><td>1                </td><td>1             </td><td>3.0               </td><td>23.0         </td><td>40.76725769042969 </td><td>-73.98439788818358</td><td>2.96        </td><td>0.0           </td><td>17.76         </td><td>2016-01-01T00:21:30.000000000</td><td>2015-12-31T23:59:59.000000000</td><td>1.06           </td></tr>\n",
       "</tbody>\n",
       "</table>"
      ],
      "text/plain": [
       "#            VendorID    dropoff_dayofweek    dropoff_hour    dropoff_latitude    dropoff_longitude    extra    fare_amount    improvement_surcharge    mta_tax    passenger_count    payment_type    pickup_dayofweek    pickup_hour    pickup_latitude     pickup_longitude    tip_amount    tolls_amount    total_amount    tpep_dropoff_datetime          tpep_pickup_datetime           trip_distance\n",
       "0            2           3.0                  19.0            40.75061798095703   -73.97478485107422   1.0      12.0           0.3                      0.5        1                  1               3.0                 19.0           40.7501106262207    -73.993896484375    3.25          0.0             17.05           2015-01-15T19:23:42.000000000  2015-01-15T19:05:39.000000000  1.59\n",
       "1            1           5.0                  20.0            40.75910949707031   -73.99441528320312   0.5      14.5           0.3                      0.5        1                  1               5.0                 20.0           40.7242431640625    -74.00164794921875  2.0           0.0             17.8            2015-01-10T20:53:28.000000000  2015-01-10T20:33:38.000000000  3.3\n",
       "2            1           5.0                  20.0            40.82441329956055   -73.95182037353516   0.5      9.5            0.3                      0.5        1                  2               5.0                 20.0           40.80278778076172   -73.96334075927734  0.0           0.0             10.8            2015-01-10T20:43:41.000000000  2015-01-10T20:33:38.000000000  1.8\n",
       "3            1           5.0                  20.0            40.71998596191406   -74.00432586669923   0.5      3.5            0.3                      0.5        1                  2               5.0                 20.0           40.71381759643555   -74.00908660888672  0.0           0.0             4.8             2015-01-10T20:35:31.000000000  2015-01-10T20:33:39.000000000  0.5\n",
       "4            1           5.0                  20.0            40.742652893066406  -74.00418090820312   0.5      15.0           0.3                      0.5        1                  2               5.0                 20.0           40.762428283691406  -73.97117614746094  0.0           0.0             16.3            2015-01-10T20:52:58.000000000  2015-01-10T20:33:39.000000000  3.0\n",
       "...          ...         ...                  ...             ...                 ...                  ...      ...            ...                      ...        ...                ...             ...                 ...            ...                 ...                 ...           ...             ...             ...                            ...                            ...\n",
       "146,112,984  2           4.0                  0.0             40.722469329833984  -73.98621368408203   0.5      7.5            0.3                      0.5        5                  1               3.0                 23.0           40.72087097167969   -73.99381256103516  1.76          0.0             10.56           2016-01-01T00:08:18.000000000  2015-12-31T23:59:56.000000000  1.2\n",
       "146,112,985  1           4.0                  0.0             40.75238800048828   -73.93951416015625   0.5      7.5            0.3                      0.5        2                  2               3.0                 23.0           40.76028060913085   -73.96527099609375  0.0           0.0             8.8             2016-01-01T00:05:19.000000000  2015-12-31T23:59:58.000000000  2.0\n",
       "146,112,986  1           4.0                  0.0             40.69329833984375   -73.9886703491211    0.5      13.5           0.3                      0.5        2                  2               3.0                 23.0           40.73907852172852   -73.98729705810547  0.0           0.0             14.8            2016-01-01T00:12:55.000000000  2015-12-31T23:59:59.000000000  3.8\n",
       "146,112,987  2           4.0                  0.0             40.705322265625     -74.01712036132812   0.5      8.5            0.3                      0.5        1                  2               3.0                 23.0           40.72569274902344   -73.99755859375     0.0           0.0             9.8             2016-01-01T00:10:26.000000000  2015-12-31T23:59:59.000000000  1.96\n",
       "146,112,988  2           4.0                  0.0             40.76057052612305   -73.99098205566406   0.5      13.5           0.3                      0.5        1                  1               3.0                 23.0           40.76725769042969   -73.98439788818358  2.96          0.0             17.76           2016-01-01T00:21:30.000000000  2015-12-31T23:59:59.000000000  1.06"
      ]
     },
     "execution_count": 5,
     "metadata": {},
     "output_type": "execute_result"
    }
   ],
   "source": [
    "df = vaex.open('/Users/maartenbreddels/datasets/nytaxi/nyc_taxi2015.arrow')\n",
    "df"
   ]
  },
  {
   "cell_type": "markdown",
   "metadata": {},
   "source": [
    "## Pandas like, but uses expressions"
   ]
  },
  {
   "cell_type": "code",
   "execution_count": 6,
   "metadata": {},
   "outputs": [
    {
     "data": {
      "text/plain": [
       "array([1.59, 3.3 , 1.8 , ..., 3.8 , 1.96, 1.06])"
      ]
     },
     "execution_count": 6,
     "metadata": {},
     "output_type": "execute_result"
    }
   ],
   "source": [
    "df.trip_distance.values"
   ]
  },
  {
   "cell_type": "code",
   "execution_count": 7,
   "metadata": {},
   "outputs": [
    {
     "data": {
      "text/plain": [
       "<vaex.expression.Expression(expressions='trip_distance')> instance at 0x11b07e3c8 values=[1.59, 3.3, 1.8, 0.5, 3.0 ... (total 146112989 values) ... 1.2, 2.0, 3.8, 1.96, 1.06] "
      ]
     },
     "execution_count": 7,
     "metadata": {},
     "output_type": "execute_result"
    }
   ],
   "source": [
    "df.trip_distance"
   ]
  },
  {
   "cell_type": "code",
   "execution_count": 8,
   "metadata": {},
   "outputs": [
    {
     "data": {
      "text/plain": [
       "<vaex.expression.Expression(expressions='(tip_amount / total_amount)')> instance at 0x11b07e860 values=[0.1906158357771261, 0.11235955056179775, 0.0, 0.0, 0.0 ... (total 146112989 values) ... 0.16666666666666666, 0.0, 0.0, 0.0, 0.16666666666666666] "
      ]
     },
     "execution_count": 8,
     "metadata": {},
     "output_type": "execute_result"
    }
   ],
   "source": [
    "df.tip_amount/df.total_amount"
   ]
  },
  {
   "cell_type": "code",
   "execution_count": 9,
   "metadata": {},
   "outputs": [
    {
     "data": {
      "text/plain": [
       "'1,168,903,912'"
      ]
     },
     "execution_count": 9,
     "metadata": {},
     "output_type": "execute_result"
    }
   ],
   "source": [
    "bytes_per_column = df.trip_distance.values.dtype.itemsize * len(df)\n",
    "f\"{bytes_per_column:,}\""
   ]
  },
  {
   "cell_type": "markdown",
   "metadata": {},
   "source": [
    "# Expression / Virtual columns\n",
    "![expres](./meme-expressions.jpg)"
   ]
  },
  {
   "cell_type": "code",
   "execution_count": 10,
   "metadata": {},
   "outputs": [],
   "source": [
    "df['tip_percentage'] = df.tip_amount/df.total_amount"
   ]
  },
  {
   "cell_type": "code",
   "execution_count": 11,
   "metadata": {},
   "outputs": [
    {
     "data": {
      "text/plain": [
       "<vaex.expression.Expression(expressions='tip_percentage')> instance at 0x11b0a1208 values=[0.1906158357771261, 0.11235955056179775, 0.0, 0.0, 0.0 ... (total 146112989 values) ... 0.16666666666666666, 0.0, 0.0, 0.0, 0.16666666666666666] "
      ]
     },
     "execution_count": 11,
     "metadata": {},
     "output_type": "execute_result"
    }
   ],
   "source": [
    "df.tip_percentage"
   ]
  },
  {
   "cell_type": "code",
   "execution_count": 12,
   "metadata": {},
   "outputs": [
    {
     "data": {
      "text/html": [
       "<table>\n",
       "<thead>\n",
       "<tr><th>#                                      </th><th>VendorID  </th><th>dropoff_dayofweek  </th><th>dropoff_hour  </th><th>dropoff_latitude  </th><th>dropoff_longitude  </th><th>extra  </th><th>fare_amount  </th><th>improvement_surcharge  </th><th>mta_tax  </th><th>passenger_count  </th><th>payment_type  </th><th>pickup_dayofweek  </th><th>pickup_hour  </th><th>pickup_latitude   </th><th>pickup_longitude  </th><th>tip_amount  </th><th>tolls_amount  </th><th>total_amount  </th><th>tpep_dropoff_datetime        </th><th>tpep_pickup_datetime         </th><th>trip_distance  </th><th>tip_percentage     </th></tr>\n",
       "</thead>\n",
       "<tbody>\n",
       "<tr><td><i style='opacity: 0.6'>0</i>          </td><td>2         </td><td>3.0                </td><td>19.0          </td><td>40.75061798095703 </td><td>-73.97478485107422 </td><td>1.0    </td><td>12.0         </td><td>0.3                    </td><td>0.5      </td><td>1                </td><td>1             </td><td>3.0               </td><td>19.0         </td><td>40.7501106262207  </td><td>-73.993896484375  </td><td>3.25        </td><td>0.0           </td><td>17.05         </td><td>2015-01-15T19:23:42.000000000</td><td>2015-01-15T19:05:39.000000000</td><td>1.59           </td><td>0.1906158357771261 </td></tr>\n",
       "<tr><td><i style='opacity: 0.6'>1</i>          </td><td>1         </td><td>5.0                </td><td>20.0          </td><td>40.75910949707031 </td><td>-73.99441528320312 </td><td>0.5    </td><td>14.5         </td><td>0.3                    </td><td>0.5      </td><td>1                </td><td>1             </td><td>5.0               </td><td>20.0         </td><td>40.7242431640625  </td><td>-74.00164794921875</td><td>2.0         </td><td>0.0           </td><td>17.8          </td><td>2015-01-10T20:53:28.000000000</td><td>2015-01-10T20:33:38.000000000</td><td>3.3            </td><td>0.11235955056179775</td></tr>\n",
       "<tr><td><i style='opacity: 0.6'>2</i>          </td><td>1         </td><td>5.0                </td><td>20.0          </td><td>40.82441329956055 </td><td>-73.95182037353516 </td><td>0.5    </td><td>9.5          </td><td>0.3                    </td><td>0.5      </td><td>1                </td><td>2             </td><td>5.0               </td><td>20.0         </td><td>40.80278778076172 </td><td>-73.96334075927734</td><td>0.0         </td><td>0.0           </td><td>10.8          </td><td>2015-01-10T20:43:41.000000000</td><td>2015-01-10T20:33:38.000000000</td><td>1.8            </td><td>0.0                </td></tr>\n",
       "<tr><td><i style='opacity: 0.6'>3</i>          </td><td>1         </td><td>5.0                </td><td>20.0          </td><td>40.71998596191406 </td><td>-74.00432586669923 </td><td>0.5    </td><td>3.5          </td><td>0.3                    </td><td>0.5      </td><td>1                </td><td>2             </td><td>5.0               </td><td>20.0         </td><td>40.71381759643555 </td><td>-74.00908660888672</td><td>0.0         </td><td>0.0           </td><td>4.8           </td><td>2015-01-10T20:35:31.000000000</td><td>2015-01-10T20:33:39.000000000</td><td>0.5            </td><td>0.0                </td></tr>\n",
       "<tr><td><i style='opacity: 0.6'>4</i>          </td><td>1         </td><td>5.0                </td><td>20.0          </td><td>40.742652893066406</td><td>-74.00418090820312 </td><td>0.5    </td><td>15.0         </td><td>0.3                    </td><td>0.5      </td><td>1                </td><td>2             </td><td>5.0               </td><td>20.0         </td><td>40.762428283691406</td><td>-73.97117614746094</td><td>0.0         </td><td>0.0           </td><td>16.3          </td><td>2015-01-10T20:52:58.000000000</td><td>2015-01-10T20:33:39.000000000</td><td>3.0            </td><td>0.0                </td></tr>\n",
       "<tr><td>...                                    </td><td>...       </td><td>...                </td><td>...           </td><td>...               </td><td>...                </td><td>...    </td><td>...          </td><td>...                    </td><td>...      </td><td>...              </td><td>...           </td><td>...               </td><td>...          </td><td>...               </td><td>...               </td><td>...         </td><td>...           </td><td>...           </td><td>...                          </td><td>...                          </td><td>...            </td><td>...                </td></tr>\n",
       "<tr><td><i style='opacity: 0.6'>146,112,984</i></td><td>2         </td><td>4.0                </td><td>0.0           </td><td>40.722469329833984</td><td>-73.98621368408203 </td><td>0.5    </td><td>7.5          </td><td>0.3                    </td><td>0.5      </td><td>5                </td><td>1             </td><td>3.0               </td><td>23.0         </td><td>40.72087097167969 </td><td>-73.99381256103516</td><td>1.76        </td><td>0.0           </td><td>10.56         </td><td>2016-01-01T00:08:18.000000000</td><td>2015-12-31T23:59:56.000000000</td><td>1.2            </td><td>0.16666666666666666</td></tr>\n",
       "<tr><td><i style='opacity: 0.6'>146,112,985</i></td><td>1         </td><td>4.0                </td><td>0.0           </td><td>40.75238800048828 </td><td>-73.93951416015625 </td><td>0.5    </td><td>7.5          </td><td>0.3                    </td><td>0.5      </td><td>2                </td><td>2             </td><td>3.0               </td><td>23.0         </td><td>40.76028060913085 </td><td>-73.96527099609375</td><td>0.0         </td><td>0.0           </td><td>8.8           </td><td>2016-01-01T00:05:19.000000000</td><td>2015-12-31T23:59:58.000000000</td><td>2.0            </td><td>0.0                </td></tr>\n",
       "<tr><td><i style='opacity: 0.6'>146,112,986</i></td><td>1         </td><td>4.0                </td><td>0.0           </td><td>40.69329833984375 </td><td>-73.9886703491211  </td><td>0.5    </td><td>13.5         </td><td>0.3                    </td><td>0.5      </td><td>2                </td><td>2             </td><td>3.0               </td><td>23.0         </td><td>40.73907852172852 </td><td>-73.98729705810547</td><td>0.0         </td><td>0.0           </td><td>14.8          </td><td>2016-01-01T00:12:55.000000000</td><td>2015-12-31T23:59:59.000000000</td><td>3.8            </td><td>0.0                </td></tr>\n",
       "<tr><td><i style='opacity: 0.6'>146,112,987</i></td><td>2         </td><td>4.0                </td><td>0.0           </td><td>40.705322265625   </td><td>-74.01712036132812 </td><td>0.5    </td><td>8.5          </td><td>0.3                    </td><td>0.5      </td><td>1                </td><td>2             </td><td>3.0               </td><td>23.0         </td><td>40.72569274902344 </td><td>-73.99755859375   </td><td>0.0         </td><td>0.0           </td><td>9.8           </td><td>2016-01-01T00:10:26.000000000</td><td>2015-12-31T23:59:59.000000000</td><td>1.96           </td><td>0.0                </td></tr>\n",
       "<tr><td><i style='opacity: 0.6'>146,112,988</i></td><td>2         </td><td>4.0                </td><td>0.0           </td><td>40.76057052612305 </td><td>-73.99098205566406 </td><td>0.5    </td><td>13.5         </td><td>0.3                    </td><td>0.5      </td><td>1                </td><td>1             </td><td>3.0               </td><td>23.0         </td><td>40.76725769042969 </td><td>-73.98439788818358</td><td>2.96        </td><td>0.0           </td><td>17.76         </td><td>2016-01-01T00:21:30.000000000</td><td>2015-12-31T23:59:59.000000000</td><td>1.06           </td><td>0.16666666666666666</td></tr>\n",
       "</tbody>\n",
       "</table>"
      ],
      "text/plain": [
       "#            VendorID    dropoff_dayofweek    dropoff_hour    dropoff_latitude    dropoff_longitude    extra    fare_amount    improvement_surcharge    mta_tax    passenger_count    payment_type    pickup_dayofweek    pickup_hour    pickup_latitude     pickup_longitude    tip_amount    tolls_amount    total_amount    tpep_dropoff_datetime          tpep_pickup_datetime           trip_distance    tip_percentage\n",
       "0            2           3.0                  19.0            40.75061798095703   -73.97478485107422   1.0      12.0           0.3                      0.5        1                  1               3.0                 19.0           40.7501106262207    -73.993896484375    3.25          0.0             17.05           2015-01-15T19:23:42.000000000  2015-01-15T19:05:39.000000000  1.59             0.1906158357771261\n",
       "1            1           5.0                  20.0            40.75910949707031   -73.99441528320312   0.5      14.5           0.3                      0.5        1                  1               5.0                 20.0           40.7242431640625    -74.00164794921875  2.0           0.0             17.8            2015-01-10T20:53:28.000000000  2015-01-10T20:33:38.000000000  3.3              0.11235955056179775\n",
       "2            1           5.0                  20.0            40.82441329956055   -73.95182037353516   0.5      9.5            0.3                      0.5        1                  2               5.0                 20.0           40.80278778076172   -73.96334075927734  0.0           0.0             10.8            2015-01-10T20:43:41.000000000  2015-01-10T20:33:38.000000000  1.8              0.0\n",
       "3            1           5.0                  20.0            40.71998596191406   -74.00432586669923   0.5      3.5            0.3                      0.5        1                  2               5.0                 20.0           40.71381759643555   -74.00908660888672  0.0           0.0             4.8             2015-01-10T20:35:31.000000000  2015-01-10T20:33:39.000000000  0.5              0.0\n",
       "4            1           5.0                  20.0            40.742652893066406  -74.00418090820312   0.5      15.0           0.3                      0.5        1                  2               5.0                 20.0           40.762428283691406  -73.97117614746094  0.0           0.0             16.3            2015-01-10T20:52:58.000000000  2015-01-10T20:33:39.000000000  3.0              0.0\n",
       "...          ...         ...                  ...             ...                 ...                  ...      ...            ...                      ...        ...                ...             ...                 ...            ...                 ...                 ...           ...             ...             ...                            ...                            ...              ...\n",
       "146,112,984  2           4.0                  0.0             40.722469329833984  -73.98621368408203   0.5      7.5            0.3                      0.5        5                  1               3.0                 23.0           40.72087097167969   -73.99381256103516  1.76          0.0             10.56           2016-01-01T00:08:18.000000000  2015-12-31T23:59:56.000000000  1.2              0.16666666666666666\n",
       "146,112,985  1           4.0                  0.0             40.75238800048828   -73.93951416015625   0.5      7.5            0.3                      0.5        2                  2               3.0                 23.0           40.76028060913085   -73.96527099609375  0.0           0.0             8.8             2016-01-01T00:05:19.000000000  2015-12-31T23:59:58.000000000  2.0              0.0\n",
       "146,112,986  1           4.0                  0.0             40.69329833984375   -73.9886703491211    0.5      13.5           0.3                      0.5        2                  2               3.0                 23.0           40.73907852172852   -73.98729705810547  0.0           0.0             14.8            2016-01-01T00:12:55.000000000  2015-12-31T23:59:59.000000000  3.8              0.0\n",
       "146,112,987  2           4.0                  0.0             40.705322265625     -74.01712036132812   0.5      8.5            0.3                      0.5        1                  2               3.0                 23.0           40.72569274902344   -73.99755859375     0.0           0.0             9.8             2016-01-01T00:10:26.000000000  2015-12-31T23:59:59.000000000  1.96             0.0\n",
       "146,112,988  2           4.0                  0.0             40.76057052612305   -73.99098205566406   0.5      13.5           0.3                      0.5        1                  1               3.0                 23.0           40.76725769042969   -73.98439788818358  2.96          0.0             17.76           2016-01-01T00:21:30.000000000  2015-12-31T23:59:59.000000000  1.06             0.16666666666666666"
      ]
     },
     "execution_count": 12,
     "metadata": {},
     "output_type": "execute_result"
    }
   ],
   "source": [
    "df"
   ]
  },
  {
   "cell_type": "code",
   "execution_count": 13,
   "metadata": {},
   "outputs": [
    {
     "data": {
      "text/plain": [
       "0.09604030083690276"
      ]
     },
     "execution_count": 13,
     "metadata": {},
     "output_type": "execute_result"
    }
   ],
   "source": [
    "df.mean(df.tip_percentage)"
   ]
  },
  {
   "cell_type": "markdown",
   "metadata": {},
   "source": [
    "# Lazy is good\n",
    "See item 10/11 of [\"10 Things I Hate About pandas\"](http://wesmckinney.com/blog/apache-arrow-pandas-internals/) by Wes McKinney\n",
    "> When you write df[df.c < 0].d.sum(), pandas creates a temporary DataFrame df[df.c < 0] then sums the d column of that temporary object. If df contains a lot of columns, this is ridiculously wasteful."
   ]
  },
  {
   "cell_type": "code",
   "execution_count": 15,
   "metadata": {},
   "outputs": [
    {
     "name": "stdout",
     "output_type": "stream",
     "text": [
      "0.19807325380334626\n"
     ]
    }
   ],
   "source": [
    "# this would cost 46+GB RAM using Pandas\n",
    "# and wouldn't be possible on this laptop\n",
    "print(df[df.tip_amount > 10].tip_percentage.mean())"
   ]
  },
  {
   "cell_type": "code",
   "execution_count": 16,
   "metadata": {},
   "outputs": [
    {
     "data": {
      "text/html": [
       "<div>\n",
       "<style scoped>\n",
       "    .dataframe tbody tr th:only-of-type {\n",
       "        vertical-align: middle;\n",
       "    }\n",
       "\n",
       "    .dataframe tbody tr th {\n",
       "        vertical-align: top;\n",
       "    }\n",
       "\n",
       "    .dataframe thead th {\n",
       "        text-align: right;\n",
       "    }\n",
       "</style>\n",
       "<table border=\"1\" class=\"dataframe\">\n",
       "  <thead>\n",
       "    <tr style=\"text-align: right;\">\n",
       "      <th></th>\n",
       "      <th>VendorID</th>\n",
       "      <th>dropoff_dayofweek</th>\n",
       "      <th>dropoff_hour</th>\n",
       "      <th>dropoff_latitude</th>\n",
       "      <th>dropoff_longitude</th>\n",
       "      <th>extra</th>\n",
       "      <th>fare_amount</th>\n",
       "      <th>improvement_surcharge</th>\n",
       "      <th>mta_tax</th>\n",
       "      <th>passenger_count</th>\n",
       "      <th>...</th>\n",
       "      <th>pickup_dayofweek</th>\n",
       "      <th>pickup_hour</th>\n",
       "      <th>pickup_latitude</th>\n",
       "      <th>pickup_longitude</th>\n",
       "      <th>tip_amount</th>\n",
       "      <th>tolls_amount</th>\n",
       "      <th>total_amount</th>\n",
       "      <th>tpep_dropoff_datetime</th>\n",
       "      <th>tpep_pickup_datetime</th>\n",
       "      <th>trip_distance</th>\n",
       "    </tr>\n",
       "  </thead>\n",
       "  <tbody>\n",
       "    <tr>\n",
       "      <th>0</th>\n",
       "      <td>2</td>\n",
       "      <td>3.0</td>\n",
       "      <td>19.0</td>\n",
       "      <td>40.750618</td>\n",
       "      <td>-73.974785</td>\n",
       "      <td>1.0</td>\n",
       "      <td>12.0</td>\n",
       "      <td>0.3</td>\n",
       "      <td>0.5</td>\n",
       "      <td>1</td>\n",
       "      <td>...</td>\n",
       "      <td>3.0</td>\n",
       "      <td>19.0</td>\n",
       "      <td>40.750111</td>\n",
       "      <td>-73.993896</td>\n",
       "      <td>3.25</td>\n",
       "      <td>0.00</td>\n",
       "      <td>17.05</td>\n",
       "      <td>2015-01-15 19:23:42</td>\n",
       "      <td>2015-01-15 19:05:39</td>\n",
       "      <td>1.59</td>\n",
       "    </tr>\n",
       "    <tr>\n",
       "      <th>1</th>\n",
       "      <td>1</td>\n",
       "      <td>5.0</td>\n",
       "      <td>20.0</td>\n",
       "      <td>40.759109</td>\n",
       "      <td>-73.994415</td>\n",
       "      <td>0.5</td>\n",
       "      <td>14.5</td>\n",
       "      <td>0.3</td>\n",
       "      <td>0.5</td>\n",
       "      <td>1</td>\n",
       "      <td>...</td>\n",
       "      <td>5.0</td>\n",
       "      <td>20.0</td>\n",
       "      <td>40.724243</td>\n",
       "      <td>-74.001648</td>\n",
       "      <td>2.00</td>\n",
       "      <td>0.00</td>\n",
       "      <td>17.80</td>\n",
       "      <td>2015-01-10 20:53:28</td>\n",
       "      <td>2015-01-10 20:33:38</td>\n",
       "      <td>3.30</td>\n",
       "    </tr>\n",
       "    <tr>\n",
       "      <th>2</th>\n",
       "      <td>1</td>\n",
       "      <td>5.0</td>\n",
       "      <td>20.0</td>\n",
       "      <td>40.824413</td>\n",
       "      <td>-73.951820</td>\n",
       "      <td>0.5</td>\n",
       "      <td>9.5</td>\n",
       "      <td>0.3</td>\n",
       "      <td>0.5</td>\n",
       "      <td>1</td>\n",
       "      <td>...</td>\n",
       "      <td>5.0</td>\n",
       "      <td>20.0</td>\n",
       "      <td>40.802788</td>\n",
       "      <td>-73.963341</td>\n",
       "      <td>0.00</td>\n",
       "      <td>0.00</td>\n",
       "      <td>10.80</td>\n",
       "      <td>2015-01-10 20:43:41</td>\n",
       "      <td>2015-01-10 20:33:38</td>\n",
       "      <td>1.80</td>\n",
       "    </tr>\n",
       "    <tr>\n",
       "      <th>3</th>\n",
       "      <td>1</td>\n",
       "      <td>5.0</td>\n",
       "      <td>20.0</td>\n",
       "      <td>40.719986</td>\n",
       "      <td>-74.004326</td>\n",
       "      <td>0.5</td>\n",
       "      <td>3.5</td>\n",
       "      <td>0.3</td>\n",
       "      <td>0.5</td>\n",
       "      <td>1</td>\n",
       "      <td>...</td>\n",
       "      <td>5.0</td>\n",
       "      <td>20.0</td>\n",
       "      <td>40.713818</td>\n",
       "      <td>-74.009087</td>\n",
       "      <td>0.00</td>\n",
       "      <td>0.00</td>\n",
       "      <td>4.80</td>\n",
       "      <td>2015-01-10 20:35:31</td>\n",
       "      <td>2015-01-10 20:33:39</td>\n",
       "      <td>0.50</td>\n",
       "    </tr>\n",
       "    <tr>\n",
       "      <th>4</th>\n",
       "      <td>1</td>\n",
       "      <td>5.0</td>\n",
       "      <td>20.0</td>\n",
       "      <td>40.742653</td>\n",
       "      <td>-74.004181</td>\n",
       "      <td>0.5</td>\n",
       "      <td>15.0</td>\n",
       "      <td>0.3</td>\n",
       "      <td>0.5</td>\n",
       "      <td>1</td>\n",
       "      <td>...</td>\n",
       "      <td>5.0</td>\n",
       "      <td>20.0</td>\n",
       "      <td>40.762428</td>\n",
       "      <td>-73.971176</td>\n",
       "      <td>0.00</td>\n",
       "      <td>0.00</td>\n",
       "      <td>16.30</td>\n",
       "      <td>2015-01-10 20:52:58</td>\n",
       "      <td>2015-01-10 20:33:39</td>\n",
       "      <td>3.00</td>\n",
       "    </tr>\n",
       "    <tr>\n",
       "      <th>5</th>\n",
       "      <td>1</td>\n",
       "      <td>5.0</td>\n",
       "      <td>20.0</td>\n",
       "      <td>40.758194</td>\n",
       "      <td>-73.986977</td>\n",
       "      <td>0.5</td>\n",
       "      <td>27.0</td>\n",
       "      <td>0.3</td>\n",
       "      <td>0.5</td>\n",
       "      <td>1</td>\n",
       "      <td>...</td>\n",
       "      <td>5.0</td>\n",
       "      <td>20.0</td>\n",
       "      <td>40.774048</td>\n",
       "      <td>-73.874374</td>\n",
       "      <td>6.70</td>\n",
       "      <td>5.33</td>\n",
       "      <td>40.33</td>\n",
       "      <td>2015-01-10 20:53:52</td>\n",
       "      <td>2015-01-10 20:33:39</td>\n",
       "      <td>9.00</td>\n",
       "    </tr>\n",
       "    <tr>\n",
       "      <th>6</th>\n",
       "      <td>1</td>\n",
       "      <td>5.0</td>\n",
       "      <td>20.0</td>\n",
       "      <td>40.749634</td>\n",
       "      <td>-73.992470</td>\n",
       "      <td>0.5</td>\n",
       "      <td>14.0</td>\n",
       "      <td>0.3</td>\n",
       "      <td>0.5</td>\n",
       "      <td>1</td>\n",
       "      <td>...</td>\n",
       "      <td>5.0</td>\n",
       "      <td>20.0</td>\n",
       "      <td>40.726009</td>\n",
       "      <td>-73.983276</td>\n",
       "      <td>0.00</td>\n",
       "      <td>0.00</td>\n",
       "      <td>15.30</td>\n",
       "      <td>2015-01-10 20:58:31</td>\n",
       "      <td>2015-01-10 20:33:39</td>\n",
       "      <td>2.20</td>\n",
       "    </tr>\n",
       "    <tr>\n",
       "      <th>7</th>\n",
       "      <td>1</td>\n",
       "      <td>5.0</td>\n",
       "      <td>20.0</td>\n",
       "      <td>40.726326</td>\n",
       "      <td>-73.995010</td>\n",
       "      <td>0.5</td>\n",
       "      <td>7.0</td>\n",
       "      <td>0.3</td>\n",
       "      <td>0.5</td>\n",
       "      <td>3</td>\n",
       "      <td>...</td>\n",
       "      <td>5.0</td>\n",
       "      <td>20.0</td>\n",
       "      <td>40.734142</td>\n",
       "      <td>-74.002663</td>\n",
       "      <td>1.66</td>\n",
       "      <td>0.00</td>\n",
       "      <td>9.96</td>\n",
       "      <td>2015-01-10 20:42:20</td>\n",
       "      <td>2015-01-10 20:33:39</td>\n",
       "      <td>0.80</td>\n",
       "    </tr>\n",
       "    <tr>\n",
       "      <th>8</th>\n",
       "      <td>1</td>\n",
       "      <td>5.0</td>\n",
       "      <td>21.0</td>\n",
       "      <td>40.759357</td>\n",
       "      <td>-73.987595</td>\n",
       "      <td>0.0</td>\n",
       "      <td>52.0</td>\n",
       "      <td>0.3</td>\n",
       "      <td>0.5</td>\n",
       "      <td>3</td>\n",
       "      <td>...</td>\n",
       "      <td>5.0</td>\n",
       "      <td>20.0</td>\n",
       "      <td>40.644356</td>\n",
       "      <td>-73.783043</td>\n",
       "      <td>0.00</td>\n",
       "      <td>5.33</td>\n",
       "      <td>58.13</td>\n",
       "      <td>2015-01-10 21:11:35</td>\n",
       "      <td>2015-01-10 20:33:39</td>\n",
       "      <td>18.20</td>\n",
       "    </tr>\n",
       "    <tr>\n",
       "      <th>9</th>\n",
       "      <td>1</td>\n",
       "      <td>5.0</td>\n",
       "      <td>20.0</td>\n",
       "      <td>40.759365</td>\n",
       "      <td>-73.985916</td>\n",
       "      <td>0.5</td>\n",
       "      <td>6.5</td>\n",
       "      <td>0.3</td>\n",
       "      <td>0.5</td>\n",
       "      <td>2</td>\n",
       "      <td>...</td>\n",
       "      <td>5.0</td>\n",
       "      <td>20.0</td>\n",
       "      <td>40.767948</td>\n",
       "      <td>-73.985588</td>\n",
       "      <td>1.55</td>\n",
       "      <td>0.00</td>\n",
       "      <td>9.35</td>\n",
       "      <td>2015-01-10 20:40:44</td>\n",
       "      <td>2015-01-10 20:33:40</td>\n",
       "      <td>0.90</td>\n",
       "    </tr>\n",
       "    <tr>\n",
       "      <th>10</th>\n",
       "      <td>1</td>\n",
       "      <td>5.0</td>\n",
       "      <td>20.0</td>\n",
       "      <td>40.728584</td>\n",
       "      <td>-74.004395</td>\n",
       "      <td>0.5</td>\n",
       "      <td>7.0</td>\n",
       "      <td>0.3</td>\n",
       "      <td>0.5</td>\n",
       "      <td>1</td>\n",
       "      <td>...</td>\n",
       "      <td>5.0</td>\n",
       "      <td>20.0</td>\n",
       "      <td>40.723103</td>\n",
       "      <td>-73.988617</td>\n",
       "      <td>1.66</td>\n",
       "      <td>0.00</td>\n",
       "      <td>9.96</td>\n",
       "      <td>2015-01-10 20:41:39</td>\n",
       "      <td>2015-01-10 20:33:40</td>\n",
       "      <td>0.90</td>\n",
       "    </tr>\n",
       "    <tr>\n",
       "      <th>11</th>\n",
       "      <td>1</td>\n",
       "      <td>5.0</td>\n",
       "      <td>20.0</td>\n",
       "      <td>40.757217</td>\n",
       "      <td>-73.967407</td>\n",
       "      <td>0.5</td>\n",
       "      <td>7.5</td>\n",
       "      <td>0.3</td>\n",
       "      <td>0.5</td>\n",
       "      <td>1</td>\n",
       "      <td>...</td>\n",
       "      <td>5.0</td>\n",
       "      <td>20.0</td>\n",
       "      <td>40.751419</td>\n",
       "      <td>-73.993782</td>\n",
       "      <td>1.00</td>\n",
       "      <td>0.00</td>\n",
       "      <td>9.80</td>\n",
       "      <td>2015-01-10 20:43:26</td>\n",
       "      <td>2015-01-10 20:33:41</td>\n",
       "      <td>1.10</td>\n",
       "    </tr>\n",
       "    <tr>\n",
       "      <th>12</th>\n",
       "      <td>1</td>\n",
       "      <td>5.0</td>\n",
       "      <td>20.0</td>\n",
       "      <td>40.707726</td>\n",
       "      <td>-74.009773</td>\n",
       "      <td>0.5</td>\n",
       "      <td>3.0</td>\n",
       "      <td>0.3</td>\n",
       "      <td>0.5</td>\n",
       "      <td>1</td>\n",
       "      <td>...</td>\n",
       "      <td>5.0</td>\n",
       "      <td>20.0</td>\n",
       "      <td>40.704376</td>\n",
       "      <td>-74.008362</td>\n",
       "      <td>0.00</td>\n",
       "      <td>0.00</td>\n",
       "      <td>4.30</td>\n",
       "      <td>2015-01-10 20:35:23</td>\n",
       "      <td>2015-01-10 20:33:41</td>\n",
       "      <td>0.30</td>\n",
       "    </tr>\n",
       "    <tr>\n",
       "      <th>13</th>\n",
       "      <td>1</td>\n",
       "      <td>5.0</td>\n",
       "      <td>21.0</td>\n",
       "      <td>40.735210</td>\n",
       "      <td>-73.997345</td>\n",
       "      <td>0.5</td>\n",
       "      <td>19.0</td>\n",
       "      <td>0.3</td>\n",
       "      <td>0.5</td>\n",
       "      <td>1</td>\n",
       "      <td>...</td>\n",
       "      <td>5.0</td>\n",
       "      <td>20.0</td>\n",
       "      <td>40.760448</td>\n",
       "      <td>-73.973946</td>\n",
       "      <td>3.00</td>\n",
       "      <td>0.00</td>\n",
       "      <td>23.30</td>\n",
       "      <td>2015-01-10 21:03:04</td>\n",
       "      <td>2015-01-10 20:33:41</td>\n",
       "      <td>3.10</td>\n",
       "    </tr>\n",
       "    <tr>\n",
       "      <th>14</th>\n",
       "      <td>1</td>\n",
       "      <td>5.0</td>\n",
       "      <td>20.0</td>\n",
       "      <td>40.739895</td>\n",
       "      <td>-73.995216</td>\n",
       "      <td>0.5</td>\n",
       "      <td>6.0</td>\n",
       "      <td>0.3</td>\n",
       "      <td>0.5</td>\n",
       "      <td>1</td>\n",
       "      <td>...</td>\n",
       "      <td>5.0</td>\n",
       "      <td>20.0</td>\n",
       "      <td>40.731777</td>\n",
       "      <td>-74.006721</td>\n",
       "      <td>0.00</td>\n",
       "      <td>0.00</td>\n",
       "      <td>7.30</td>\n",
       "      <td>2015-01-10 20:39:23</td>\n",
       "      <td>2015-01-10 20:33:41</td>\n",
       "      <td>1.10</td>\n",
       "    </tr>\n",
       "  </tbody>\n",
       "</table>\n",
       "<p>15 rows × 21 columns</p>\n",
       "</div>"
      ],
      "text/plain": [
       "    VendorID  dropoff_dayofweek  dropoff_hour  dropoff_latitude  \\\n",
       "0          2                3.0          19.0         40.750618   \n",
       "1          1                5.0          20.0         40.759109   \n",
       "2          1                5.0          20.0         40.824413   \n",
       "3          1                5.0          20.0         40.719986   \n",
       "4          1                5.0          20.0         40.742653   \n",
       "5          1                5.0          20.0         40.758194   \n",
       "6          1                5.0          20.0         40.749634   \n",
       "7          1                5.0          20.0         40.726326   \n",
       "8          1                5.0          21.0         40.759357   \n",
       "9          1                5.0          20.0         40.759365   \n",
       "10         1                5.0          20.0         40.728584   \n",
       "11         1                5.0          20.0         40.757217   \n",
       "12         1                5.0          20.0         40.707726   \n",
       "13         1                5.0          21.0         40.735210   \n",
       "14         1                5.0          20.0         40.739895   \n",
       "\n",
       "    dropoff_longitude  extra  fare_amount  improvement_surcharge  mta_tax  \\\n",
       "0          -73.974785    1.0         12.0                    0.3      0.5   \n",
       "1          -73.994415    0.5         14.5                    0.3      0.5   \n",
       "2          -73.951820    0.5          9.5                    0.3      0.5   \n",
       "3          -74.004326    0.5          3.5                    0.3      0.5   \n",
       "4          -74.004181    0.5         15.0                    0.3      0.5   \n",
       "5          -73.986977    0.5         27.0                    0.3      0.5   \n",
       "6          -73.992470    0.5         14.0                    0.3      0.5   \n",
       "7          -73.995010    0.5          7.0                    0.3      0.5   \n",
       "8          -73.987595    0.0         52.0                    0.3      0.5   \n",
       "9          -73.985916    0.5          6.5                    0.3      0.5   \n",
       "10         -74.004395    0.5          7.0                    0.3      0.5   \n",
       "11         -73.967407    0.5          7.5                    0.3      0.5   \n",
       "12         -74.009773    0.5          3.0                    0.3      0.5   \n",
       "13         -73.997345    0.5         19.0                    0.3      0.5   \n",
       "14         -73.995216    0.5          6.0                    0.3      0.5   \n",
       "\n",
       "    passenger_count      ...       pickup_dayofweek  pickup_hour  \\\n",
       "0                 1      ...                    3.0         19.0   \n",
       "1                 1      ...                    5.0         20.0   \n",
       "2                 1      ...                    5.0         20.0   \n",
       "3                 1      ...                    5.0         20.0   \n",
       "4                 1      ...                    5.0         20.0   \n",
       "5                 1      ...                    5.0         20.0   \n",
       "6                 1      ...                    5.0         20.0   \n",
       "7                 3      ...                    5.0         20.0   \n",
       "8                 3      ...                    5.0         20.0   \n",
       "9                 2      ...                    5.0         20.0   \n",
       "10                1      ...                    5.0         20.0   \n",
       "11                1      ...                    5.0         20.0   \n",
       "12                1      ...                    5.0         20.0   \n",
       "13                1      ...                    5.0         20.0   \n",
       "14                1      ...                    5.0         20.0   \n",
       "\n",
       "    pickup_latitude  pickup_longitude  tip_amount  tolls_amount  total_amount  \\\n",
       "0         40.750111        -73.993896        3.25          0.00         17.05   \n",
       "1         40.724243        -74.001648        2.00          0.00         17.80   \n",
       "2         40.802788        -73.963341        0.00          0.00         10.80   \n",
       "3         40.713818        -74.009087        0.00          0.00          4.80   \n",
       "4         40.762428        -73.971176        0.00          0.00         16.30   \n",
       "5         40.774048        -73.874374        6.70          5.33         40.33   \n",
       "6         40.726009        -73.983276        0.00          0.00         15.30   \n",
       "7         40.734142        -74.002663        1.66          0.00          9.96   \n",
       "8         40.644356        -73.783043        0.00          5.33         58.13   \n",
       "9         40.767948        -73.985588        1.55          0.00          9.35   \n",
       "10        40.723103        -73.988617        1.66          0.00          9.96   \n",
       "11        40.751419        -73.993782        1.00          0.00          9.80   \n",
       "12        40.704376        -74.008362        0.00          0.00          4.30   \n",
       "13        40.760448        -73.973946        3.00          0.00         23.30   \n",
       "14        40.731777        -74.006721        0.00          0.00          7.30   \n",
       "\n",
       "    tpep_dropoff_datetime tpep_pickup_datetime trip_distance  \n",
       "0     2015-01-15 19:23:42  2015-01-15 19:05:39          1.59  \n",
       "1     2015-01-10 20:53:28  2015-01-10 20:33:38          3.30  \n",
       "2     2015-01-10 20:43:41  2015-01-10 20:33:38          1.80  \n",
       "3     2015-01-10 20:35:31  2015-01-10 20:33:39          0.50  \n",
       "4     2015-01-10 20:52:58  2015-01-10 20:33:39          3.00  \n",
       "5     2015-01-10 20:53:52  2015-01-10 20:33:39          9.00  \n",
       "6     2015-01-10 20:58:31  2015-01-10 20:33:39          2.20  \n",
       "7     2015-01-10 20:42:20  2015-01-10 20:33:39          0.80  \n",
       "8     2015-01-10 21:11:35  2015-01-10 20:33:39         18.20  \n",
       "9     2015-01-10 20:40:44  2015-01-10 20:33:40          0.90  \n",
       "10    2015-01-10 20:41:39  2015-01-10 20:33:40          0.90  \n",
       "11    2015-01-10 20:43:26  2015-01-10 20:33:41          1.10  \n",
       "12    2015-01-10 20:35:23  2015-01-10 20:33:41          0.30  \n",
       "13    2015-01-10 21:03:04  2015-01-10 20:33:41          3.10  \n",
       "14    2015-01-10 20:39:23  2015-01-10 20:33:41          1.10  \n",
       "\n",
       "[15 rows x 21 columns]"
      ]
     },
     "execution_count": 16,
     "metadata": {},
     "output_type": "execute_result"
    }
   ],
   "source": [
    "df[:15].to_pandas_df()"
   ]
  },
  {
   "cell_type": "code",
   "execution_count": 17,
   "metadata": {},
   "outputs": [
    {
     "data": {
      "text/plain": [
       "pyarrow.Table\n",
       "VendorID: int64\n",
       "dropoff_dayofweek: double\n",
       "dropoff_hour: double\n",
       "dropoff_latitude: double\n",
       "dropoff_longitude: double\n",
       "extra: double\n",
       "fare_amount: double\n",
       "improvement_surcharge: double\n",
       "mta_tax: double\n",
       "passenger_count: int64\n",
       "payment_type: int64\n",
       "pickup_dayofweek: double\n",
       "pickup_hour: double\n",
       "pickup_latitude: double\n",
       "pickup_longitude: double\n",
       "tip_amount: double\n",
       "tolls_amount: double\n",
       "total_amount: double\n",
       "tpep_dropoff_datetime: timestamp[ns]\n",
       "tpep_pickup_datetime: timestamp[ns]\n",
       "trip_distance: double"
      ]
     },
     "execution_count": 17,
     "metadata": {},
     "output_type": "execute_result"
    }
   ],
   "source": [
    "df[:15].to_arrow_table()"
   ]
  },
  {
   "cell_type": "markdown",
   "metadata": {},
   "source": [
    "# N-d statistic and viz"
   ]
  },
  {
   "cell_type": "code",
   "execution_count": 18,
   "metadata": {},
   "outputs": [
    {
     "data": {
      "text/plain": [
       "array([[ 1.,  4.,  7., ...,  1.,  1.,  0.],\n",
       "       [ 8.,  8., 14., ...,  0.,  1.,  0.],\n",
       "       [21.,  8.,  7., ...,  0.,  1.,  1.],\n",
       "       ...,\n",
       "       [ 1.,  5.,  0., ...,  0.,  0.,  0.],\n",
       "       [ 0.,  0.,  2., ...,  0.,  0.,  0.],\n",
       "       [ 0.,  0.,  1., ...,  0.,  0.,  0.]])"
      ]
     },
     "execution_count": 18,
     "metadata": {},
     "output_type": "execute_result"
    }
   ],
   "source": [
    "counts2d = df.count(binby=[df.pickup_longitude, df.pickup_latitude], shape=(128,128))\n",
    "counts2d"
   ]
  },
  {
   "cell_type": "code",
   "execution_count": 19,
   "metadata": {},
   "outputs": [
    {
     "data": {
      "text/plain": [
       "<matplotlib.image.AxesImage at 0x115a53e80>"
      ]
     },
     "execution_count": 19,
     "metadata": {},
     "output_type": "execute_result"
    },
    {
     "data": {
      "image/png": "[encoded data removed]",
      "text/plain": [
       "<Figure size 432x288 with 1 Axes>"
      ]
     },
     "metadata": {},
     "output_type": "display_data"
    }
   ],
   "source": [
    "plt.imshow(np.log(counts2d.T+1), origin='lower')"
   ]
  },
  {
   "cell_type": "code",
   "execution_count": 20,
   "metadata": {},
   "outputs": [
    {
     "data": {
      "application/vnd.jupyter.widget-view+json": {
       "model_id": "22d18e50f1bf48c2839499dfb299af2f",
       "version_major": 2,
       "version_minor": 0
      },
      "text/plain": [
       "VBox(children=(HBox(children=(Map(basemap={'url': 'https://{s}.tile.openstreetmap.org/{z}/{x}/{y}.png', 'max_z…"
      ]
     },
     "metadata": {},
     "output_type": "display_data"
    }
   ],
   "source": [
    "df.plot_widget(df.pickup_longitude, df.pickup_latitude, f='log', controls_selection=False, backend='ipyleaflet')"
   ]
  },
  {
   "cell_type": "code",
   "execution_count": 21,
   "metadata": {},
   "outputs": [
    {
     "data": {
      "application/javascript": [
       "define(\"vaex.ext.bqplot\", [\"@jupyter-widgets/base\", \"bqplot\", \"underscore\"],\n",
       "       function(widgets, bqplot, _) {\n",
       "    \"use strict\";\n",
       "/*\n",
       "widgets.BoxView.prototype.remove_original = widgets.BoxView.prototype.remove\n",
       "widgets.BoxView.prototype.remove = function() {\n",
       "    console.log(\"remove monkey patch\")\n",
       "    if(this.children_views)\n",
       "        this.children_views.remove()\n",
       "    if(!this._is_removed) // protect against inf loop, if we monkey patch twice (during dev that can happen)\n",
       "        this.remove_original()\n",
       "    else\n",
       "        this._is_removed = true\n",
       "}*/\n",
       "\n",
       "    var Image = bqplot.Mark.extend({\n",
       "\n",
       "        render: function() {\n",
       "            var base_render_promise = Image.__super__.render.apply(this);\n",
       "            var el = this.d3el || this.el;\n",
       "            window.last_el = el;\n",
       "            window.last_image = this;\n",
       "            this.im = el.append(\"image\")\n",
       "                .attr(\"class\", \"dot_img\")\n",
       "                .attr(\"xlink:href\", this.model.get('src'))\n",
       "                .attr(\"x\", 0) //this.model.get('x'))\n",
       "                .attr(\"y\", 0) //this.model.get('y'))\n",
       "                .attr(\"width\", 1)//this.model.get('width'))\n",
       "                .attr(\"height\", 1)// this.model.get('height'))\n",
       "                .attr(\"preserveAspectRatio\", this.model.get('preserve_aspect_ratio'));\n",
       "\n",
       "            this.width = this.parent.plotarea_width;\n",
       "            this.height = this.parent.plotarea_height;\n",
       "            this.map_id = widgets.uuid();\n",
       "            this.display_el_classes = [\"event_layer\"];\n",
       "            var that = this;\n",
       "            this.event_metadata = {\n",
       "            \"mouse_over\": {\n",
       "                \"msg_name\": \"hover\",\n",
       "                \"lookup_data\": false,\n",
       "                \"hit_test\": true\n",
       "            },\n",
       "            \"legend_clicked\":  {\n",
       "                \"msg_name\": \"legend_click\",\n",
       "                \"hit_test\": true\n",
       "            },\n",
       "            \"element_clicked\": {\n",
       "                \"msg_name\": \"element_click\",\n",
       "                \"lookup_data\": false,\n",
       "                \"hit_test\": true\n",
       "            },\n",
       "            \"parent_clicked\": {\n",
       "                \"msg_name\": \"background_click\",\n",
       "                \"hit_test\": false\n",
       "            }}\n",
       "            console.log('listen to...')\n",
       "            this.is_removed = false;\n",
       "            this.model.set(\"view_count\", this.model.get(\"view_count\")+1)\n",
       "            this.model.save_changes()\n",
       "            return base_render_promise.then(function() {\n",
       "                console.log(\"promise...\")\n",
       "                that.event_listeners = {};\n",
       "                that.create_listeners();\n",
       "                console.log(\"drawing...\")\n",
       "                that.draw();\n",
       "            });\n",
       "        },\n",
       "        remove: function() {\n",
       "            var result = Image.__super__.remove.apply(this, arguments);\n",
       "            console.log(\"remove\")\n",
       "            if(!this.is_removed) {\n",
       "                console.log(\"removed\")\n",
       "                this.model.set(\"view_count\", this.model.get(\"view_count\")-1)\n",
       "                this.model.save_changes()\n",
       "                this.is_removed = true;\n",
       "            }\n",
       "            return result;\n",
       "        },\n",
       "        set_positional_scales: function() {\n",
       "            var x_scale = this.scales.x,\n",
       "                y_scale = this.scales.y;\n",
       "            this.listenTo(x_scale, \"domain_changed\", function() {\n",
       "                if (!this.model.dirty) {\n",
       "                    var animate = true;\n",
       "                    //this.update_xy_position(animate); }\n",
       "                    this.set_ranges()\n",
       "                 }\n",
       "            });\n",
       "            this.listenTo(y_scale, \"domain_changed\", function() {\n",
       "                if (!this.model.dirty) {\n",
       "                    var animate = true;\n",
       "                    //this.update_xy_position(animate);\n",
       "                    this.set_ranges()\n",
       "                }\n",
       "            });\n",
       "        },\n",
       "        set_ranges: function() {\n",
       "                console.log(\"set ranges\")\n",
       "\t            var x_scale = this.scales.x,\n",
       "\t                y_scale = this.scales.y\n",
       "\t                ;\n",
       "\t            if(x_scale) {\n",
       "\t                x_scale.set_range(this.parent.padded_range(\"x\", x_scale.model));\n",
       "\t            }\n",
       "\t            if(y_scale) {\n",
       "\t                y_scale.set_range(this.parent.padded_range(\"y\", y_scale.model));\n",
       "\t            }\n",
       "\t            var x_scale = this.scales.x, y_scale = this.scales.y;\n",
       "\t            var that = this;\n",
       "\t            var animation_duration = this.parent.model.get(\"animation_duration\");// : 0;\n",
       "                var el = this.d3el || this.el;\n",
       "\t            el.selectAll(\".dot_img\").transition()\n",
       "\t                .duration(animation_duration)\n",
       "\t                .attr(\"transform\", function(d) {\n",
       "                        var sx = x_scale.scale(1) - x_scale.scale(0);\n",
       "                        var sy = y_scale.scale(1) - y_scale.scale(0);\n",
       "                        var tx = x_scale.scale(that.model.get('x')) + x_scale.offset\n",
       "                        var ty = y_scale.scale(that.model.get('y')) + y_scale.offset\n",
       "                        sx *= that.model.get('width')\n",
       "                        sy *= that.model.get('height')\n",
       "                        //console.log(that.model)\n",
       "                        //console.log(that.model.get('width'))\n",
       "                        //console.log(sx)\n",
       "                        //console.log(sy)\n",
       "\t                    return \"translate(\" + tx +\n",
       "\t                                    \",\" + ty + \") scale(\" + sx + \", \" + sy + \")\"});\n",
       "\t            //this.x_pixels = this.model.mark_data.map(function(el) { return x_scale.scale(el.x) + x_scale.offset; });\n",
       "\t            //this.y_pixels = this.model.mark_data.map(function(el) { return y_scale.scale(el.y) + y_scale.offset; });\n",
       "        },\n",
       "\n",
       "        create_listeners: function() {\n",
       "            Image.__super__.create_listeners.apply(this);\n",
       "\n",
       "            this.listenTo(this.model, \"change:src\", this.update_src, this);\n",
       "            this.listenTo(this.model, \"change:x\", this.update_x, this);\n",
       "            this.listenTo(this.model, \"change:y\", this.update_y, this);\n",
       "            this.listenTo(this.model, \"change:width\", this.update_width, this);\n",
       "            this.listenTo(this.model, \"change:height\", this.update_height, this);\n",
       "            this.listenTo(this.model, \"change:preserve_aspect_ratio\", this.update_preserve_aspect_ratio, this);\n",
       "            this.listenTo(this.parent, \"bg_clicked\", function() {\n",
       "                        this.event_dispatcher(\"parent_clicked\");\n",
       "                    });\n",
       "        },\n",
       "\n",
       "        update_xy_position: function(animate) {\n",
       "            //console.log(\"update_xy_position\");\n",
       "        },\n",
       "\n",
       "        update_src: function(model, new_x) {\n",
       "          //this.im.attr('x', new_x);\n",
       "          //console.log(\"update src\")\n",
       "            this.im.attr(\"xlink:href\", this.model.get('src'))\n",
       "            //this.set_ranges();\n",
       "        },\n",
       "        update_x: function(model, new_x) {\n",
       "          //this.im.attr('x', new_x);\n",
       "            this.set_ranges();\n",
       "        },\n",
       "\n",
       "        update_y: function(model, new_y) {\n",
       "          //this.im.attr('y', new_y);\n",
       "            this.set_ranges();\n",
       "        },\n",
       "\n",
       "        update_width: function(model, new_width) {\n",
       "          //this.im.attr('width', new_width);\n",
       "            this.set_ranges();\n",
       "        },\n",
       "\n",
       "        update_height: function(model, new_height) {\n",
       "          //this.im.attr('height', new_height);\n",
       "            this.set_ranges();\n",
       "        },\n",
       "\n",
       "        update_preserve_aspect_ratio: function(model, new_preserve_aspect_ratio) {\n",
       "          this.im.attr('preserveAspectRatio', new_preserve_aspect_ratio);\n",
       "        },\n",
       "\n",
       "        draw: function() {\n",
       "            console.log(\"in draw\")\n",
       "            this.set_ranges();\n",
       "            this.im.on(\"click\", _.bind(function(d, i) {\n",
       "            this.event_dispatcher(\"element_clicked\",\n",
       "\t\t\t      {\"data\": d, \"index\": 0});\n",
       "            }, this));\n",
       "\n",
       "        },\n",
       "\n",
       "    });\n",
       "\n",
       "\n",
       "   var ImageModel = bqplot.MarkModel.extend({\n",
       "        defaults: function() {\n",
       "            var more_defaults =  {\n",
       "                    _model_name: \"ImageModel\",\n",
       "                    _view_name: \"Image\",\n",
       "                    _view_module: \"vaex.ext.bqplot\",\n",
       "                    _model_module: \"vaex.ext.bqplot\",\n",
       "                    x: 0,\n",
       "                    y: 0,\n",
       "                    width: 1,\n",
       "                    height: 1,\n",
       "                    view_count: 0,\n",
       "                }\n",
       "            return _.extend(bqplot.MarkModel.prototype.defaults(), more_defaults);\n",
       "        },\n",
       "        initialize: function() {\n",
       "            ImageModel.__super__.initialize.apply(this, arguments);\n",
       "        },\n",
       "\n",
       "    });\n",
       "\n",
       "\n",
       "\n",
       "    console.log(\"blaat\")\n",
       "\t    return {\n",
       "\t        ImageModel: ImageModel,\n",
       "\t        Image:Image,\n",
       "\t    };\n",
       "})\n",
       "//require([\"vaex.ext.bqplot\"])"
      ]
     },
     "metadata": {},
     "output_type": "display_data"
    },
    {
     "data": {
      "application/vnd.jupyter.widget-view+json": {
       "model_id": "79199707ecd8476884a21f07bc83305c",
       "version_major": 2,
       "version_minor": 0
      },
      "text/plain": [
       "VBox(children=(HBox(children=(VBox(children=(VBox(children=(VBox(children=(HBox(children=(ToggleButtons(icons=…"
      ]
     },
     "metadata": {},
     "output_type": "display_data"
    }
   ],
   "source": [
    "df.plot_widget(df.pickup_longitude, df.pickup_latitude, f='log', controls_selection=True)"
   ]
  },
  {
   "cell_type": "code",
   "execution_count": 22,
   "metadata": {},
   "outputs": [
    {
     "data": {
      "text/plain": [
       "0.09994679777354425"
      ]
     },
     "execution_count": 22,
     "metadata": {},
     "output_type": "execute_result"
    }
   ],
   "source": [
    "df.tip_percentage.mean(selection=True)"
   ]
  },
  {
   "cell_type": "code",
   "execution_count": 23,
   "metadata": {},
   "outputs": [],
   "source": [
    "def arc_distance(theta_1, phi_1, theta_2, phi_2):\n",
    "    temp = (np.sin((theta_2-theta_1)/2*np.pi/180)**2\n",
    "           + np.cos(theta_1*np.pi/180)*np.cos(theta_2*np.pi/180) * np.sin((phi_2-phi_1)/2*np.pi/180)**2)\n",
    "    distance = 2 * np.arctan2(np.sqrt(temp), np.sqrt(1-temp))\n",
    "    return distance * 6400/1.6"
   ]
  },
  {
   "cell_type": "code",
   "execution_count": 24,
   "metadata": {},
   "outputs": [
    {
     "data": {
      "text/plain": [
       "309.6463699075278"
      ]
     },
     "execution_count": 24,
     "metadata": {},
     "output_type": "execute_result"
    }
   ],
   "source": [
    "# Distance between Groningen (NL) and London\n",
    "arc_distance(53.2217306,6.568327,\n",
    "             51.5183731,-0.1429305)"
   ]
  },
  {
   "cell_type": "code",
   "execution_count": 25,
   "metadata": {},
   "outputs": [],
   "source": [
    "df['arc_distance'] = arc_distance(df.pickup_longitude,\n",
    "                                  df.pickup_latitude,\n",
    "                                  df.dropoff_longitude,\n",
    "                                  df.dropoff_latitude)"
   ]
  },
  {
   "cell_type": "code",
   "execution_count": 26,
   "metadata": {},
   "outputs": [
    {
     "data": {
      "text/plain": [
       "<vaex.expression.Expression(expressions='(((2 * arctan2(sqrt(((sin(((((dropoff_longitude - pickup_longitude) / 2) * 3.141592653589793) / 180)) ** 2) + ((cos(((pickup_longitude * 3.141592653589793) / 180)) * cos(((dropoff_longitude * 3.141592653589793) / 180))) * (sin(((((dropoff_latitude - pickup_latitude) / 2) * 3.141592653589793) / 180)) ** 2)))), sqrt((1 - ((sin(((((dropoff_longitude - pickup_longitude) / 2) * 3.141592653589793) / 180)) ** 2) + ((cos(((pickup_longitude * 3.141592653589793) / 180)) * cos(((dropoff_longitude * 3.141592653589793) / 180))) * (sin(((((dropoff_latitude - pickup_latitude) / 2) * 3.141592653589793) / 180)) ** 2))))))) * 6400) / 1.6)')> instance at 0xc8dcc3208 values=[1.334279493569286, 0.8397761147639515, 0.9060504934442801, 0.35290605998411856, 2.33542574256004 ... (total 146112989 values) ... 0.5313936486688771, 1.8046061013109977, 0.8867955238694628, 1.4207645620439129, 0.4773600750179836] "
      ]
     },
     "execution_count": 26,
     "metadata": {},
     "output_type": "execute_result"
    }
   ],
   "source": [
    "df.arc_distance.expand()"
   ]
  },
  {
   "cell_type": "code",
   "execution_count": 27,
   "metadata": {},
   "outputs": [
    {
     "name": "stdout",
     "output_type": "stream",
     "text": [
      "CPU times: user 1.73 s, sys: 21.6 ms, total: 1.75 s\n",
      "Wall time: 268 ms\n"
     ]
    },
    {
     "data": {
      "text/plain": [
       "0.09604030083691173"
      ]
     },
     "execution_count": 27,
     "metadata": {},
     "output_type": "execute_result"
    }
   ],
   "source": [
    "%%time\n",
    "df.mean(df.tip_percentage)"
   ]
  },
  {
   "cell_type": "code",
   "execution_count": 28,
   "metadata": {},
   "outputs": [
    {
     "name": "stdout",
     "output_type": "stream",
     "text": [
      "CPU times: user 35.9 s, sys: 7.48 s, total: 43.3 s\n",
      "Wall time: 8.82 s\n"
     ]
    },
    {
     "data": {
      "text/plain": [
       "1.8301208899585686"
      ]
     },
     "execution_count": 28,
     "metadata": {},
     "output_type": "execute_result"
    }
   ],
   "source": [
    "%%time\n",
    "df.mean(df.arc_distance)"
   ]
  },
  {
   "cell_type": "code",
   "execution_count": 29,
   "metadata": {},
   "outputs": [],
   "source": [
    "df['arc_distance_jit'] = df.arc_distance.jit_numba()\n",
    "# df['arc_distance_jit'] = df.arc_distance.jit_pythran()"
   ]
  },
  {
   "cell_type": "code",
   "execution_count": 30,
   "metadata": {},
   "outputs": [
    {
     "name": "stdout",
     "output_type": "stream",
     "text": [
      "CPU times: user 15.4 s, sys: 141 ms, total: 15.6 s\n",
      "Wall time: 2.11 s\n"
     ]
    },
    {
     "data": {
      "text/plain": [
       "1.8301208899585961"
      ]
     },
     "execution_count": 30,
     "metadata": {},
     "output_type": "execute_result"
    }
   ],
   "source": [
    "%%time\n",
    "df.mean(df.arc_distance_jit)"
   ]
  },
  {
   "cell_type": "code",
   "execution_count": 31,
   "metadata": {
    "scrolled": true
   },
   "outputs": [
    {
     "data": {
      "image/svg+xml": [
       "<?xml version=\"1.0\" encoding=\"UTF-8\" standalone=\"no\"?>\n",
       "<!DOCTYPE svg PUBLIC \"-//W3C//DTD SVG 1.1//EN\"\n",
       " \"http://www.w3.org/Graphics/SVG/1.1/DTD/svg11.dtd\">\n",
       "<!-- Generated by graphviz version 2.38.0 (20140413.2041)\n",
       " -->\n",
       "<!-- Title: %3 Pages: 1 -->\n",
       "<svg width=\"1229pt\" height=\"1124pt\"\n",
       " viewBox=\"0.00 0.00 1228.69 1124.00\" xmlns=\"http://www.w3.org/2000/svg\" xmlns:xlink=\"http://www.w3.org/1999/xlink\">\n",
       "<g id=\"graph0\" class=\"graph\" transform=\"scale(1 1) rotate(0) translate(4 1120)\">\n",
       "<title>%3</title>\n",
       "<polygon fill=\"white\" stroke=\"none\" points=\"-4,4 -4,-1120 1224.69,-1120 1224.69,4 -4,4\"/>\n",
       "<!-- tip_percentage -->\n",
       "<g id=\"node1\" class=\"node\"><title>tip_percentage</title>\n",
       "<ellipse fill=\"none\" stroke=\"black\" cx=\"457.375\" cy=\"-1098\" rx=\"62.3148\" ry=\"18\"/>\n",
       "<text text-anchor=\"middle\" x=\"457.375\" y=\"-1093.8\" font-family=\"Times,serif\" font-size=\"14.00\">tip_percentage</text>\n",
       "</g>\n",
       "<!-- (tip_amount / total_amount) -->\n",
       "<g id=\"node2\" class=\"node\"><title>(tip_amount / total_amount)</title>\n",
       "<ellipse fill=\"none\" stroke=\"black\" cx=\"457.375\" cy=\"-1026\" rx=\"109.65\" ry=\"18\"/>\n",
       "<text text-anchor=\"middle\" x=\"457.375\" y=\"-1021.8\" font-family=\"Times,serif\" font-size=\"14.00\">(tip_amount / total_amount)</text>\n",
       "</g>\n",
       "<!-- tip_percentage&#45;&gt;(tip_amount / total_amount) -->\n",
       "<g id=\"edge3\" class=\"edge\"><title>tip_percentage&#45;&gt;(tip_amount / total_amount)</title>\n",
       "<path fill=\"none\" stroke=\"black\" d=\"M457.375,-1079.7C457.375,-1071.98 457.375,-1062.71 457.375,-1054.11\"/>\n",
       "<polygon fill=\"black\" stroke=\"black\" points=\"460.875,-1054.1 457.375,-1044.1 453.875,-1054.1 460.875,-1054.1\"/>\n",
       "</g>\n",
       "<!-- tip_amount -->\n",
       "<g id=\"node3\" class=\"node\"><title>tip_amount</title>\n",
       "<ellipse fill=\"none\" stroke=\"black\" cx=\"408.375\" cy=\"-954\" rx=\"50.281\" ry=\"18\"/>\n",
       "<text text-anchor=\"middle\" x=\"408.375\" y=\"-949.8\" font-family=\"Times,serif\" font-size=\"14.00\">tip_amount</text>\n",
       "</g>\n",
       "<!-- (tip_amount / total_amount)&#45;&gt;tip_amount -->\n",
       "<g id=\"edge1\" class=\"edge\"><title>(tip_amount / total_amount)&#45;&gt;tip_amount</title>\n",
       "<path fill=\"none\" stroke=\"black\" d=\"M445.513,-1008.05C439.675,-999.715 432.518,-989.491 426.051,-980.252\"/>\n",
       "<polygon fill=\"black\" stroke=\"black\" points=\"428.729,-977.974 420.127,-971.789 422.995,-981.988 428.729,-977.974\"/>\n",
       "</g>\n",
       "<!-- total_amount -->\n",
       "<g id=\"node4\" class=\"node\"><title>total_amount</title>\n",
       "<ellipse fill=\"none\" stroke=\"black\" cx=\"533.375\" cy=\"-954\" rx=\"56.5459\" ry=\"18\"/>\n",
       "<text text-anchor=\"middle\" x=\"533.375\" y=\"-949.8\" font-family=\"Times,serif\" font-size=\"14.00\">total_amount</text>\n",
       "</g>\n",
       "<!-- (tip_amount / total_amount)&#45;&gt;total_amount -->\n",
       "<g id=\"edge2\" class=\"edge\"><title>(tip_amount / total_amount)&#45;&gt;total_amount</title>\n",
       "<path fill=\"none\" stroke=\"black\" d=\"M475.772,-1008.05C485.529,-999.069 497.66,-987.895 508.269,-978.123\"/>\n",
       "<polygon fill=\"black\" stroke=\"black\" points=\"510.686,-980.656 515.67,-971.307 505.943,-975.507 510.686,-980.656\"/>\n",
       "</g>\n",
       "<!-- arc_distance -->\n",
       "<g id=\"node5\" class=\"node\"><title>arc_distance</title>\n",
       "<ellipse fill=\"none\" stroke=\"black\" cx=\"741.375\" cy=\"-1098\" rx=\"54.0972\" ry=\"18\"/>\n",
       "<text text-anchor=\"middle\" x=\"741.375\" y=\"-1093.8\" font-family=\"Times,serif\" font-size=\"14.00\">arc_distance</text>\n",
       "</g>\n",
       "<!-- (((2 * arctan2(sqrt(((sin( .... -->\n",
       "<g id=\"node6\" class=\"node\"><title>(((2 * arctan2(sqrt(((sin( ....</title>\n",
       "<ellipse fill=\"none\" stroke=\"black\" cx=\"741.375\" cy=\"-1026\" rx=\"107.685\" ry=\"18\"/>\n",
       "<text text-anchor=\"middle\" x=\"741.375\" y=\"-1021.8\" font-family=\"Times,serif\" font-size=\"14.00\">(((2 * arctan2(sqrt(((sin( ....</text>\n",
       "</g>\n",
       "<!-- arc_distance&#45;&gt;(((2 * arctan2(sqrt(((sin( .... -->\n",
       "<g id=\"edge64\" class=\"edge\"><title>arc_distance&#45;&gt;(((2 * arctan2(sqrt(((sin( ....</title>\n",
       "<path fill=\"none\" stroke=\"black\" d=\"M741.375,-1079.7C741.375,-1071.98 741.375,-1062.71 741.375,-1054.11\"/>\n",
       "<polygon fill=\"black\" stroke=\"black\" points=\"744.875,-1054.1 741.375,-1044.1 737.875,-1054.1 744.875,-1054.1\"/>\n",
       "</g>\n",
       "<!-- ((2 * arctan2(sqrt(((sin(( .... -->\n",
       "<g id=\"node7\" class=\"node\"><title>((2 * arctan2(sqrt(((sin(( ....</title>\n",
       "<ellipse fill=\"none\" stroke=\"black\" cx=\"741.375\" cy=\"-954\" rx=\"107.685\" ry=\"18\"/>\n",
       "<text text-anchor=\"middle\" x=\"741.375\" y=\"-949.8\" font-family=\"Times,serif\" font-size=\"14.00\">((2 * arctan2(sqrt(((sin(( ....</text>\n",
       "</g>\n",
       "<!-- (((2 * arctan2(sqrt(((sin( ....&#45;&gt;((2 * arctan2(sqrt(((sin(( .... -->\n",
       "<g id=\"edge63\" class=\"edge\"><title>(((2 * arctan2(sqrt(((sin( ....&#45;&gt;((2 * arctan2(sqrt(((sin(( ....</title>\n",
       "<path fill=\"none\" stroke=\"black\" d=\"M741.375,-1007.7C741.375,-999.983 741.375,-990.712 741.375,-982.112\"/>\n",
       "<polygon fill=\"black\" stroke=\"black\" points=\"744.875,-982.104 741.375,-972.104 737.875,-982.104 744.875,-982.104\"/>\n",
       "</g>\n",
       "<!-- (2 * arctan2(sqrt(((sin((( .... -->\n",
       "<g id=\"node8\" class=\"node\"><title>(2 * arctan2(sqrt(((sin((( ....</title>\n",
       "<ellipse fill=\"none\" stroke=\"black\" cx=\"741.375\" cy=\"-882\" rx=\"107.685\" ry=\"18\"/>\n",
       "<text text-anchor=\"middle\" x=\"741.375\" y=\"-877.8\" font-family=\"Times,serif\" font-size=\"14.00\">(2 * arctan2(sqrt(((sin((( ....</text>\n",
       "</g>\n",
       "<!-- ((2 * arctan2(sqrt(((sin(( ....&#45;&gt;(2 * arctan2(sqrt(((sin((( .... -->\n",
       "<g id=\"edge62\" class=\"edge\"><title>((2 * arctan2(sqrt(((sin(( ....&#45;&gt;(2 * arctan2(sqrt(((sin((( ....</title>\n",
       "<path fill=\"none\" stroke=\"black\" d=\"M741.375,-935.697C741.375,-927.983 741.375,-918.712 741.375,-910.112\"/>\n",
       "<polygon fill=\"black\" stroke=\"black\" points=\"744.875,-910.104 741.375,-900.104 737.875,-910.104 744.875,-910.104\"/>\n",
       "</g>\n",
       "<!-- arctan2(sqrt(((sin(((((dro .... -->\n",
       "<g id=\"node9\" class=\"node\"><title>arctan2(sqrt(((sin(((((dro ....</title>\n",
       "<ellipse fill=\"none\" stroke=\"black\" cx=\"741.375\" cy=\"-810\" rx=\"109.121\" ry=\"18\"/>\n",
       "<text text-anchor=\"middle\" x=\"741.375\" y=\"-805.8\" font-family=\"Times,serif\" font-size=\"14.00\">arctan2(sqrt(((sin(((((dro ....</text>\n",
       "</g>\n",
       "<!-- (2 * arctan2(sqrt(((sin((( ....&#45;&gt;arctan2(sqrt(((sin(((((dro .... -->\n",
       "<g id=\"edge61\" class=\"edge\"><title>(2 * arctan2(sqrt(((sin((( ....&#45;&gt;arctan2(sqrt(((sin(((((dro ....</title>\n",
       "<path fill=\"none\" stroke=\"black\" d=\"M741.375,-863.697C741.375,-855.983 741.375,-846.712 741.375,-838.112\"/>\n",
       "<polygon fill=\"black\" stroke=\"black\" points=\"744.875,-838.104 741.375,-828.104 737.875,-838.104 744.875,-838.104\"/>\n",
       "</g>\n",
       "<!-- sqrt(((sin(((((dropoff_lon .... -->\n",
       "<g id=\"node10\" class=\"node\"><title>sqrt(((sin(((((dropoff_lon ....</title>\n",
       "<ellipse fill=\"none\" stroke=\"black\" cx=\"623.375\" cy=\"-666\" rx=\"110.289\" ry=\"18\"/>\n",
       "<text text-anchor=\"middle\" x=\"623.375\" y=\"-661.8\" font-family=\"Times,serif\" font-size=\"14.00\">sqrt(((sin(((((dropoff_lon ....</text>\n",
       "</g>\n",
       "<!-- arctan2(sqrt(((sin(((((dro ....&#45;&gt;sqrt(((sin(((((dropoff_lon .... -->\n",
       "<g id=\"edge31\" class=\"edge\"><title>arctan2(sqrt(((sin(((((dro ....&#45;&gt;sqrt(((sin(((((dropoff_lon ....</title>\n",
       "<path fill=\"none\" stroke=\"black\" d=\"M727.141,-791.871C706.499,-767.031 668.12,-720.846 644.267,-692.142\"/>\n",
       "<polygon fill=\"black\" stroke=\"black\" points=\"646.742,-689.643 637.659,-684.189 641.358,-694.117 646.742,-689.643\"/>\n",
       "</g>\n",
       "<!-- sqrt((1 &#45; ((sin(((((dropof .... -->\n",
       "<g id=\"node36\" class=\"node\"><title>sqrt((1 &#45; ((sin(((((dropof ....</title>\n",
       "<ellipse fill=\"none\" stroke=\"black\" cx=\"834.375\" cy=\"-738\" rx=\"106.733\" ry=\"18\"/>\n",
       "<text text-anchor=\"middle\" x=\"834.375\" y=\"-733.8\" font-family=\"Times,serif\" font-size=\"14.00\">sqrt((1 &#45; ((sin(((((dropof ....</text>\n",
       "</g>\n",
       "<!-- arctan2(sqrt(((sin(((((dro ....&#45;&gt;sqrt((1 &#45; ((sin(((((dropof .... -->\n",
       "<g id=\"edge60\" class=\"edge\"><title>arctan2(sqrt(((sin(((((dro ....&#45;&gt;sqrt((1 &#45; ((sin(((((dropof ....</title>\n",
       "<path fill=\"none\" stroke=\"black\" d=\"M763.888,-792.055C775.882,-783.027 790.809,-771.792 803.834,-761.987\"/>\n",
       "<polygon fill=\"black\" stroke=\"black\" points=\"806.185,-764.599 812.069,-755.789 801.975,-759.006 806.185,-764.599\"/>\n",
       "</g>\n",
       "<!-- ((sin(((((dropoff_longitud .... -->\n",
       "<g id=\"node11\" class=\"node\"><title>((sin(((((dropoff_longitud ....</title>\n",
       "<ellipse fill=\"none\" stroke=\"black\" cx=\"741.375\" cy=\"-594\" rx=\"112.228\" ry=\"18\"/>\n",
       "<text text-anchor=\"middle\" x=\"741.375\" y=\"-589.8\" font-family=\"Times,serif\" font-size=\"14.00\">((sin(((((dropoff_longitud ....</text>\n",
       "</g>\n",
       "<!-- sqrt(((sin(((((dropoff_lon ....&#45;&gt;((sin(((((dropoff_longitud .... -->\n",
       "<g id=\"edge30\" class=\"edge\"><title>sqrt(((sin(((((dropoff_lon ....&#45;&gt;((sin(((((dropoff_longitud ....</title>\n",
       "<path fill=\"none\" stroke=\"black\" d=\"M651.339,-648.411C667.357,-638.909 687.642,-626.876 704.901,-616.637\"/>\n",
       "<polygon fill=\"black\" stroke=\"black\" points=\"706.796,-619.582 713.611,-611.47 703.225,-613.562 706.796,-619.582\"/>\n",
       "</g>\n",
       "<!-- (sin(((((dropoff_longitude .... -->\n",
       "<g id=\"node12\" class=\"node\"><title>(sin(((((dropoff_longitude ....</title>\n",
       "<ellipse fill=\"none\" stroke=\"black\" cx=\"988.375\" cy=\"-522\" rx=\"113.188\" ry=\"18\"/>\n",
       "<text text-anchor=\"middle\" x=\"988.375\" y=\"-517.8\" font-family=\"Times,serif\" font-size=\"14.00\">(sin(((((dropoff_longitude ....</text>\n",
       "</g>\n",
       "<!-- ((sin(((((dropoff_longitud ....&#45;&gt;(sin(((((dropoff_longitude .... -->\n",
       "<g id=\"edge11\" class=\"edge\"><title>((sin(((((dropoff_longitud ....&#45;&gt;(sin(((((dropoff_longitude ....</title>\n",
       "<path fill=\"none\" stroke=\"black\" d=\"M789.586,-577.725C827.15,-566.701 879.649,-551.801 921.299,-540.332\"/>\n",
       "<polygon fill=\"black\" stroke=\"black\" points=\"922.376,-543.666 931.093,-537.644 920.523,-536.916 922.376,-543.666\"/>\n",
       "</g>\n",
       "<!-- ((sin(((((dropoff_longitud ....&#45;&gt;(sin(((((dropoff_longitude .... -->\n",
       "<g id=\"edge39\" class=\"edge\"><title>((sin(((((dropoff_longitud ....&#45;&gt;(sin(((((dropoff_longitude ....</title>\n",
       "<path fill=\"none\" stroke=\"black\" d=\"M798.457,-578.411C838.028,-567.588 890.473,-552.763 930.262,-541.17\"/>\n",
       "<polygon fill=\"black\" stroke=\"black\" points=\"931.474,-544.463 940.09,-538.297 929.509,-537.744 931.474,-544.463\"/>\n",
       "</g>\n",
       "<!-- ((cos(((pickup_longitude * .... -->\n",
       "<g id=\"node20\" class=\"node\"><title>((cos(((pickup_longitude * ....</title>\n",
       "<ellipse fill=\"none\" stroke=\"black\" cx=\"617.375\" cy=\"-522\" rx=\"116.405\" ry=\"18\"/>\n",
       "<text text-anchor=\"middle\" x=\"617.375\" y=\"-517.8\" font-family=\"Times,serif\" font-size=\"14.00\">((cos(((pickup_longitude * ....</text>\n",
       "</g>\n",
       "<!-- ((sin(((((dropoff_longitud ....&#45;&gt;((cos(((pickup_longitude * .... -->\n",
       "<g id=\"edge29\" class=\"edge\"><title>((sin(((((dropoff_longitud ....&#45;&gt;((cos(((pickup_longitude * ....</title>\n",
       "<path fill=\"none\" stroke=\"black\" d=\"M706.814,-576.765C688.934,-567.272 667.319,-555.165 649.764,-544.844\"/>\n",
       "<polygon fill=\"black\" stroke=\"black\" points=\"651.38,-541.733 640.995,-539.633 647.804,-547.751 651.38,-541.733\"/>\n",
       "</g>\n",
       "<!-- ((sin(((((dropoff_longitud ....&#45;&gt;((cos(((pickup_longitude * .... -->\n",
       "<g id=\"edge57\" class=\"edge\"><title>((sin(((((dropoff_longitud ....&#45;&gt;((cos(((pickup_longitude * ....</title>\n",
       "<path fill=\"none\" stroke=\"black\" d=\"M717.533,-576.233C701.571,-566.64 680.22,-554.511 661.289,-544.254\"/>\n",
       "<polygon fill=\"black\" stroke=\"black\" points=\"662.69,-541.034 652.224,-539.388 659.38,-547.201 662.69,-541.034\"/>\n",
       "</g>\n",
       "<!-- sin(((((dropoff_longitude &#160;.... -->\n",
       "<g id=\"node13\" class=\"node\"><title>sin(((((dropoff_longitude &#160;....</title>\n",
       "<ellipse fill=\"none\" stroke=\"black\" cx=\"1050.37\" cy=\"-450\" rx=\"112.72\" ry=\"18\"/>\n",
       "<text text-anchor=\"middle\" x=\"1050.37\" y=\"-445.8\" font-family=\"Times,serif\" font-size=\"14.00\">sin(((((dropoff_longitude &#160;....</text>\n",
       "</g>\n",
       "<!-- (sin(((((dropoff_longitude ....&#45;&gt;sin(((((dropoff_longitude &#160;.... -->\n",
       "<g id=\"edge10\" class=\"edge\"><title>(sin(((((dropoff_longitude ....&#45;&gt;sin(((((dropoff_longitude &#160;....</title>\n",
       "<path fill=\"none\" stroke=\"black\" d=\"M997.505,-504.055C1004.28,-495.371 1013.58,-484.644 1022.57,-475.114\"/>\n",
       "<polygon fill=\"black\" stroke=\"black\" points=\"1025.21,-477.413 1029.64,-467.789 1020.18,-472.549 1025.21,-477.413\"/>\n",
       "</g>\n",
       "<!-- (sin(((((dropoff_longitude ....&#45;&gt;sin(((((dropoff_longitude &#160;.... -->\n",
       "<g id=\"edge38\" class=\"edge\"><title>(sin(((((dropoff_longitude ....&#45;&gt;sin(((((dropoff_longitude &#160;....</title>\n",
       "<path fill=\"none\" stroke=\"black\" d=\"M1009.26,-504.055C1017.58,-495.668 1026.9,-485.376 1034.65,-476.096\"/>\n",
       "<polygon fill=\"black\" stroke=\"black\" points=\"1037.41,-478.249 1040.99,-468.275 1031.97,-473.842 1037.41,-478.249\"/>\n",
       "</g>\n",
       "<!-- ((((dropoff_longitude &#45; pi .... -->\n",
       "<g id=\"node14\" class=\"node\"><title>((((dropoff_longitude &#45; pi ....</title>\n",
       "<ellipse fill=\"none\" stroke=\"black\" cx=\"1081.37\" cy=\"-378\" rx=\"111.259\" ry=\"18\"/>\n",
       "<text text-anchor=\"middle\" x=\"1081.37\" y=\"-373.8\" font-family=\"Times,serif\" font-size=\"14.00\">((((dropoff_longitude &#45; pi ....</text>\n",
       "</g>\n",
       "<!-- sin(((((dropoff_longitude &#160;....&#45;&gt;((((dropoff_longitude &#45; pi .... -->\n",
       "<g id=\"edge9\" class=\"edge\"><title>sin(((((dropoff_longitude &#160;....&#45;&gt;((((dropoff_longitude &#45; pi ....</title>\n",
       "<path fill=\"none\" stroke=\"black\" d=\"M1052.12,-431.697C1054.83,-423.728 1058.88,-414.1 1063.18,-405.264\"/>\n",
       "<polygon fill=\"black\" stroke=\"black\" points=\"1066.43,-406.597 1067.91,-396.104 1060.21,-403.39 1066.43,-406.597\"/>\n",
       "</g>\n",
       "<!-- sin(((((dropoff_longitude &#160;....&#45;&gt;((((dropoff_longitude &#45; pi .... -->\n",
       "<g id=\"edge37\" class=\"edge\"><title>sin(((((dropoff_longitude &#160;....&#45;&gt;((((dropoff_longitude &#45; pi ....</title>\n",
       "<path fill=\"none\" stroke=\"black\" d=\"M1063.76,-432.055C1068.08,-424.176 1072.55,-414.617 1076.09,-405.794\"/>\n",
       "<polygon fill=\"black\" stroke=\"black\" points=\"1079.43,-406.868 1079.64,-396.275 1072.87,-404.424 1079.43,-406.868\"/>\n",
       "</g>\n",
       "<!-- (((dropoff_longitude &#45; pic .... -->\n",
       "<g id=\"node15\" class=\"node\"><title>(((dropoff_longitude &#45; pic ....</title>\n",
       "<ellipse fill=\"none\" stroke=\"black\" cx=\"1098.37\" cy=\"-306\" rx=\"112.219\" ry=\"18\"/>\n",
       "<text text-anchor=\"middle\" x=\"1098.37\" y=\"-301.8\" font-family=\"Times,serif\" font-size=\"14.00\">(((dropoff_longitude &#45; pic ....</text>\n",
       "</g>\n",
       "<!-- ((((dropoff_longitude &#45; pi ....&#45;&gt;(((dropoff_longitude &#45; pic .... -->\n",
       "<g id=\"edge8\" class=\"edge\"><title>((((dropoff_longitude &#45; pi ....&#45;&gt;(((dropoff_longitude &#45; pic ....</title>\n",
       "<path fill=\"none\" stroke=\"black\" d=\"M1079.66,-359.697C1080.75,-351.898 1082.81,-342.509 1085.28,-333.829\"/>\n",
       "<polygon fill=\"black\" stroke=\"black\" points=\"1088.67,-334.694 1088.33,-324.104 1081.99,-332.598 1088.67,-334.694\"/>\n",
       "</g>\n",
       "<!-- ((((dropoff_longitude &#45; pi ....&#45;&gt;(((dropoff_longitude &#45; pic .... -->\n",
       "<g id=\"edge36\" class=\"edge\"><title>((((dropoff_longitude &#45; pi ....&#45;&gt;(((dropoff_longitude &#45; pic ....</title>\n",
       "<path fill=\"none\" stroke=\"black\" d=\"M1091.37,-360.055C1094.06,-352.346 1096.56,-343.027 1098.33,-334.364\"/>\n",
       "<polygon fill=\"black\" stroke=\"black\" points=\"1101.82,-334.728 1100.09,-324.275 1094.93,-333.526 1101.82,-334.728\"/>\n",
       "</g>\n",
       "<!-- ((dropoff_longitude &#45; pick .... -->\n",
       "<g id=\"node16\" class=\"node\"><title>((dropoff_longitude &#45; pick ....</title>\n",
       "<ellipse fill=\"none\" stroke=\"black\" cx=\"1103.37\" cy=\"-234\" rx=\"113.673\" ry=\"18\"/>\n",
       "<text text-anchor=\"middle\" x=\"1103.37\" y=\"-229.8\" font-family=\"Times,serif\" font-size=\"14.00\">((dropoff_longitude &#45; pick ....</text>\n",
       "</g>\n",
       "<!-- (((dropoff_longitude &#45; pic ....&#45;&gt;((dropoff_longitude &#45; pick .... -->\n",
       "<g id=\"edge7\" class=\"edge\"><title>(((dropoff_longitude &#45; pic ....&#45;&gt;((dropoff_longitude &#45; pick ....</title>\n",
       "<path fill=\"none\" stroke=\"black\" d=\"M1093.7,-287.697C1093.45,-279.983 1093.89,-270.712 1094.84,-262.112\"/>\n",
       "<polygon fill=\"black\" stroke=\"black\" points=\"1098.32,-262.496 1096.26,-252.104 1091.39,-261.516 1098.32,-262.496\"/>\n",
       "</g>\n",
       "<!-- (((dropoff_longitude &#45; pic ....&#45;&gt;((dropoff_longitude &#45; pick .... -->\n",
       "<g id=\"edge35\" class=\"edge\"><title>(((dropoff_longitude &#45; pic ....&#45;&gt;((dropoff_longitude &#45; pick ....</title>\n",
       "<path fill=\"none\" stroke=\"black\" d=\"M1105.53,-287.697C1106.87,-279.983 1107.76,-270.712 1108.03,-262.112\"/>\n",
       "<polygon fill=\"black\" stroke=\"black\" points=\"1111.53,-262.109 1108.05,-252.104 1104.53,-262.099 1111.53,-262.109\"/>\n",
       "</g>\n",
       "<!-- (dropoff_longitude &#45; picku .... -->\n",
       "<g id=\"node17\" class=\"node\"><title>(dropoff_longitude &#45; picku ....</title>\n",
       "<ellipse fill=\"none\" stroke=\"black\" cx=\"1105.37\" cy=\"-162\" rx=\"115.126\" ry=\"18\"/>\n",
       "<text text-anchor=\"middle\" x=\"1105.37\" y=\"-157.8\" font-family=\"Times,serif\" font-size=\"14.00\">(dropoff_longitude &#45; picku ....</text>\n",
       "</g>\n",
       "<!-- ((dropoff_longitude &#45; pick ....&#45;&gt;(dropoff_longitude &#45; picku .... -->\n",
       "<g id=\"edge6\" class=\"edge\"><title>((dropoff_longitude &#45; pick ....&#45;&gt;(dropoff_longitude &#45; picku ....</title>\n",
       "<path fill=\"none\" stroke=\"black\" d=\"M1097.95,-215.697C1097.38,-207.983 1097.42,-198.712 1098,-190.112\"/>\n",
       "<polygon fill=\"black\" stroke=\"black\" points=\"1101.49,-190.399 1098.99,-180.104 1094.53,-189.713 1101.49,-190.399\"/>\n",
       "</g>\n",
       "<!-- ((dropoff_longitude &#45; pick ....&#45;&gt;(dropoff_longitude &#45; picku .... -->\n",
       "<g id=\"edge34\" class=\"edge\"><title>((dropoff_longitude &#45; pick ....&#45;&gt;(dropoff_longitude &#45; picku ....</title>\n",
       "<path fill=\"none\" stroke=\"black\" d=\"M1109.78,-215.697C1110.8,-207.983 1111.29,-198.712 1111.2,-190.112\"/>\n",
       "<polygon fill=\"black\" stroke=\"black\" points=\"1114.69,-189.951 1110.78,-180.104 1107.7,-190.241 1114.69,-189.951\"/>\n",
       "</g>\n",
       "<!-- dropoff_longitude -->\n",
       "<g id=\"node18\" class=\"node\"><title>dropoff_longitude</title>\n",
       "<ellipse fill=\"none\" stroke=\"black\" cx=\"855.375\" cy=\"-90\" rx=\"74.0999\" ry=\"18\"/>\n",
       "<text text-anchor=\"middle\" x=\"855.375\" y=\"-85.8\" font-family=\"Times,serif\" font-size=\"14.00\">dropoff_longitude</text>\n",
       "</g>\n",
       "<!-- (dropoff_longitude &#45; picku ....&#45;&gt;dropoff_longitude -->\n",
       "<g id=\"edge4\" class=\"edge\"><title>(dropoff_longitude &#45; picku ....&#45;&gt;dropoff_longitude</title>\n",
       "<path fill=\"none\" stroke=\"black\" d=\"M1047.67,-146.411C1005.77,-135.084 949.579,-119.373 908.723,-107.572\"/>\n",
       "<polygon fill=\"black\" stroke=\"black\" points=\"909.525,-104.161 898.946,-104.737 907.576,-110.884 909.525,-104.161\"/>\n",
       "</g>\n",
       "<!-- (dropoff_longitude &#45; picku ....&#45;&gt;dropoff_longitude -->\n",
       "<g id=\"edge32\" class=\"edge\"><title>(dropoff_longitude &#45; picku ....&#45;&gt;dropoff_longitude</title>\n",
       "<path fill=\"none\" stroke=\"black\" d=\"M1056.21,-145.638C1015.62,-133.877 957.981,-117.742 914.812,-106.057\"/>\n",
       "<polygon fill=\"black\" stroke=\"black\" points=\"915.569,-102.636 905.002,-103.412 913.746,-109.395 915.569,-102.636\"/>\n",
       "</g>\n",
       "<!-- pickup_longitude -->\n",
       "<g id=\"node19\" class=\"node\"><title>pickup_longitude</title>\n",
       "<ellipse fill=\"none\" stroke=\"black\" cx=\"601.375\" cy=\"-90\" rx=\"72.0049\" ry=\"18\"/>\n",
       "<text text-anchor=\"middle\" x=\"601.375\" y=\"-85.8\" font-family=\"Times,serif\" font-size=\"14.00\">pickup_longitude</text>\n",
       "</g>\n",
       "<!-- (dropoff_longitude &#45; picku ....&#45;&gt;pickup_longitude -->\n",
       "<g id=\"edge5\" class=\"edge\"><title>(dropoff_longitude &#45; picku ....&#45;&gt;pickup_longitude</title>\n",
       "<path fill=\"none\" stroke=\"black\" d=\"M1020.14,-149.87C922.057,-136.559 762.916,-114.45 671.628,-101.449\"/>\n",
       "<polygon fill=\"black\" stroke=\"black\" points=\"672.048,-97.9732 661.654,-100.026 671.059,-104.903 672.048,-97.9732\"/>\n",
       "</g>\n",
       "<!-- (dropoff_longitude &#45; picku ....&#45;&gt;pickup_longitude -->\n",
       "<g id=\"edge33\" class=\"edge\"><title>(dropoff_longitude &#45; picku ....&#45;&gt;pickup_longitude</title>\n",
       "<path fill=\"none\" stroke=\"black\" d=\"M1024.82,-149.086C927.995,-135.337 767.082,-113.008 673.953,-100.416\"/>\n",
       "<polygon fill=\"black\" stroke=\"black\" points=\"674.15,-96.9109 663.772,-99.0417 673.214,-103.848 674.15,-96.9109\"/>\n",
       "</g>\n",
       "<!-- (cos(((pickup_longitude * &#160;.... -->\n",
       "<g id=\"node21\" class=\"node\"><title>(cos(((pickup_longitude * &#160;....</title>\n",
       "<ellipse fill=\"none\" stroke=\"black\" cx=\"617.375\" cy=\"-378\" rx=\"115.437\" ry=\"18\"/>\n",
       "<text text-anchor=\"middle\" x=\"617.375\" y=\"-373.8\" font-family=\"Times,serif\" font-size=\"14.00\">(cos(((pickup_longitude * &#160;....</text>\n",
       "</g>\n",
       "<!-- ((cos(((pickup_longitude * ....&#45;&gt;(cos(((pickup_longitude * &#160;.... -->\n",
       "<g id=\"edge20\" class=\"edge\"><title>((cos(((pickup_longitude * ....&#45;&gt;(cos(((pickup_longitude * &#160;....</title>\n",
       "<path fill=\"none\" stroke=\"black\" d=\"M612.79,-503.871C610.232,-479.67 609.941,-435.211 611.916,-406.393\"/>\n",
       "<polygon fill=\"black\" stroke=\"black\" points=\"615.424,-406.45 612.784,-396.189 608.449,-405.857 615.424,-406.45\"/>\n",
       "</g>\n",
       "<!-- ((cos(((pickup_longitude * ....&#45;&gt;(cos(((pickup_longitude * &#160;.... -->\n",
       "<g id=\"edge48\" class=\"edge\"><title>((cos(((pickup_longitude * ....&#45;&gt;(cos(((pickup_longitude * &#160;....</title>\n",
       "<path fill=\"none\" stroke=\"black\" d=\"M621.959,-503.871C624.518,-479.67 624.809,-435.211 622.834,-406.393\"/>\n",
       "<polygon fill=\"black\" stroke=\"black\" points=\"626.301,-405.857 621.966,-396.189 619.326,-406.45 626.301,-405.857\"/>\n",
       "</g>\n",
       "<!-- (sin(((((dropoff_latitude &#160;.... -->\n",
       "<g id=\"node28\" class=\"node\"><title>(sin(((((dropoff_latitude &#160;....</title>\n",
       "<ellipse fill=\"none\" stroke=\"black\" cx=\"323.375\" cy=\"-450\" rx=\"108.844\" ry=\"18\"/>\n",
       "<text text-anchor=\"middle\" x=\"323.375\" y=\"-445.8\" font-family=\"Times,serif\" font-size=\"14.00\">(sin(((((dropoff_latitude &#160;....</text>\n",
       "</g>\n",
       "<!-- ((cos(((pickup_longitude * ....&#45;&gt;(sin(((((dropoff_latitude &#160;.... -->\n",
       "<g id=\"edge28\" class=\"edge\"><title>((cos(((pickup_longitude * ....&#45;&gt;(sin(((((dropoff_latitude &#160;....</title>\n",
       "<path fill=\"none\" stroke=\"black\" d=\"M553.06,-507.003C504.369,-495.767 437.818,-479.95 388.849,-467.99\"/>\n",
       "<polygon fill=\"black\" stroke=\"black\" points=\"389.535,-464.555 378.99,-465.575 387.87,-471.354 389.535,-464.555\"/>\n",
       "</g>\n",
       "<!-- ((cos(((pickup_longitude * ....&#45;&gt;(sin(((((dropoff_latitude &#160;.... -->\n",
       "<g id=\"edge56\" class=\"edge\"><title>((cos(((pickup_longitude * ....&#45;&gt;(sin(((((dropoff_latitude &#160;....</title>\n",
       "<path fill=\"none\" stroke=\"black\" d=\"M561.01,-506.24C514.206,-494.752 447.389,-478.831 396.485,-467.031\"/>\n",
       "<polygon fill=\"black\" stroke=\"black\" points=\"397.058,-463.572 386.527,-464.729 395.481,-470.392 397.058,-463.572\"/>\n",
       "</g>\n",
       "<!-- cos(((pickup_longitude * 3 .... -->\n",
       "<g id=\"node22\" class=\"node\"><title>cos(((pickup_longitude * 3 ....</title>\n",
       "<ellipse fill=\"none\" stroke=\"black\" cx=\"602.375\" cy=\"-306\" rx=\"116.89\" ry=\"18\"/>\n",
       "<text text-anchor=\"middle\" x=\"602.375\" y=\"-301.8\" font-family=\"Times,serif\" font-size=\"14.00\">cos(((pickup_longitude * 3 ....</text>\n",
       "</g>\n",
       "<!-- (cos(((pickup_longitude * &#160;....&#45;&gt;cos(((pickup_longitude * 3 .... -->\n",
       "<g id=\"edge15\" class=\"edge\"><title>(cos(((pickup_longitude * &#160;....&#45;&gt;cos(((pickup_longitude * 3 ....</title>\n",
       "<path fill=\"none\" stroke=\"black\" d=\"M607.866,-360.055C605.395,-352.346 603.156,-343.027 601.633,-334.364\"/>\n",
       "<polygon fill=\"black\" stroke=\"black\" points=\"605.069,-333.666 600.164,-324.275 598.142,-334.675 605.069,-333.666\"/>\n",
       "</g>\n",
       "<!-- (cos(((pickup_longitude * &#160;....&#45;&gt;cos(((pickup_longitude * 3 .... -->\n",
       "<g id=\"edge43\" class=\"edge\"><title>(cos(((pickup_longitude * &#160;....&#45;&gt;cos(((pickup_longitude * 3 ....</title>\n",
       "<path fill=\"none\" stroke=\"black\" d=\"M619.583,-359.697C618.716,-351.898 616.927,-342.509 614.708,-333.829\"/>\n",
       "<polygon fill=\"black\" stroke=\"black\" points=\"618.043,-332.761 611.935,-324.104 611.311,-334.681 618.043,-332.761\"/>\n",
       "</g>\n",
       "<!-- cos(((dropoff_longitude * &#160;.... -->\n",
       "<g id=\"node25\" class=\"node\"><title>cos(((dropoff_longitude * &#160;....</title>\n",
       "<ellipse fill=\"none\" stroke=\"black\" cx=\"852.375\" cy=\"-306\" rx=\"114.642\" ry=\"18\"/>\n",
       "<text text-anchor=\"middle\" x=\"852.375\" y=\"-301.8\" font-family=\"Times,serif\" font-size=\"14.00\">cos(((dropoff_longitude * &#160;....</text>\n",
       "</g>\n",
       "<!-- (cos(((pickup_longitude * &#160;....&#45;&gt;cos(((dropoff_longitude * &#160;.... -->\n",
       "<g id=\"edge19\" class=\"edge\"><title>(cos(((pickup_longitude * &#160;....&#45;&gt;cos(((dropoff_longitude * &#160;....</title>\n",
       "<path fill=\"none\" stroke=\"black\" d=\"M663.809,-361.465C699.044,-350.585 747.841,-336.026 787.003,-324.698\"/>\n",
       "<polygon fill=\"black\" stroke=\"black\" points=\"788.099,-328.025 796.738,-321.892 786.16,-321.299 788.099,-328.025\"/>\n",
       "</g>\n",
       "<!-- (cos(((pickup_longitude * &#160;....&#45;&gt;cos(((dropoff_longitude * &#160;.... -->\n",
       "<g id=\"edge47\" class=\"edge\"><title>(cos(((pickup_longitude * &#160;....&#45;&gt;cos(((dropoff_longitude * &#160;....</title>\n",
       "<path fill=\"none\" stroke=\"black\" d=\"M672.848,-362.155C710.052,-351.471 758.812,-336.987 796.164,-325.542\"/>\n",
       "<polygon fill=\"black\" stroke=\"black\" points=\"797.359,-328.836 805.888,-322.552 795.301,-322.146 797.359,-328.836\"/>\n",
       "</g>\n",
       "<!-- ((pickup_longitude * 3.141 .... -->\n",
       "<g id=\"node23\" class=\"node\"><title>((pickup_longitude * 3.141 ....</title>\n",
       "<ellipse fill=\"none\" stroke=\"black\" cx=\"602.375\" cy=\"-234\" rx=\"117.876\" ry=\"18\"/>\n",
       "<text text-anchor=\"middle\" x=\"602.375\" y=\"-229.8\" font-family=\"Times,serif\" font-size=\"14.00\">((pickup_longitude * 3.141 ....</text>\n",
       "</g>\n",
       "<!-- cos(((pickup_longitude * 3 ....&#45;&gt;((pickup_longitude * 3.141 .... -->\n",
       "<g id=\"edge14\" class=\"edge\"><title>cos(((pickup_longitude * 3 ....&#45;&gt;((pickup_longitude * 3.141 ....</title>\n",
       "<path fill=\"none\" stroke=\"black\" d=\"M596.459,-287.697C595.663,-279.983 595.437,-270.712 595.78,-262.112\"/>\n",
       "<polygon fill=\"black\" stroke=\"black\" points=\"599.273,-262.324 596.48,-252.104 592.29,-261.836 599.273,-262.324\"/>\n",
       "</g>\n",
       "<!-- cos(((pickup_longitude * 3 ....&#45;&gt;((pickup_longitude * 3.141 .... -->\n",
       "<g id=\"edge42\" class=\"edge\"><title>cos(((pickup_longitude * 3 ....&#45;&gt;((pickup_longitude * 3.141 ....</title>\n",
       "<path fill=\"none\" stroke=\"black\" d=\"M608.291,-287.697C609.086,-279.983 609.313,-270.712 608.97,-262.112\"/>\n",
       "<polygon fill=\"black\" stroke=\"black\" points=\"612.459,-261.836 608.27,-252.104 605.477,-262.324 612.459,-261.836\"/>\n",
       "</g>\n",
       "<!-- (pickup_longitude * 3.1415 .... -->\n",
       "<g id=\"node24\" class=\"node\"><title>(pickup_longitude * 3.1415 ....</title>\n",
       "<ellipse fill=\"none\" stroke=\"black\" cx=\"601.375\" cy=\"-162\" rx=\"119.33\" ry=\"18\"/>\n",
       "<text text-anchor=\"middle\" x=\"601.375\" y=\"-157.8\" font-family=\"Times,serif\" font-size=\"14.00\">(pickup_longitude * 3.1415 ....</text>\n",
       "</g>\n",
       "<!-- ((pickup_longitude * 3.141 ....&#45;&gt;(pickup_longitude * 3.1415 .... -->\n",
       "<g id=\"edge13\" class=\"edge\"><title>((pickup_longitude * 3.141 ....&#45;&gt;(pickup_longitude * 3.1415 ....</title>\n",
       "<path fill=\"none\" stroke=\"black\" d=\"M596.212,-215.697C595.306,-207.983 594.947,-198.712 595.167,-190.112\"/>\n",
       "<polygon fill=\"black\" stroke=\"black\" points=\"598.663,-190.283 595.724,-180.104 591.674,-189.894 598.663,-190.283\"/>\n",
       "</g>\n",
       "<!-- ((pickup_longitude * 3.141 ....&#45;&gt;(pickup_longitude * 3.1415 .... -->\n",
       "<g id=\"edge41\" class=\"edge\"><title>((pickup_longitude * 3.141 ....&#45;&gt;(pickup_longitude * 3.1415 ....</title>\n",
       "<path fill=\"none\" stroke=\"black\" d=\"M608.043,-215.697C608.729,-207.983 608.823,-198.712 608.357,-190.112\"/>\n",
       "<polygon fill=\"black\" stroke=\"black\" points=\"611.842,-189.775 607.514,-180.104 604.866,-190.363 611.842,-189.775\"/>\n",
       "</g>\n",
       "<!-- (pickup_longitude * 3.1415 ....&#45;&gt;pickup_longitude -->\n",
       "<g id=\"edge12\" class=\"edge\"><title>(pickup_longitude * 3.1415 ....&#45;&gt;pickup_longitude</title>\n",
       "<path fill=\"none\" stroke=\"black\" d=\"M595.459,-143.697C594.663,-135.983 594.437,-126.712 594.78,-118.112\"/>\n",
       "<polygon fill=\"black\" stroke=\"black\" points=\"598.273,-118.324 595.48,-108.104 591.29,-117.836 598.273,-118.324\"/>\n",
       "</g>\n",
       "<!-- (pickup_longitude * 3.1415 ....&#45;&gt;pickup_longitude -->\n",
       "<g id=\"edge40\" class=\"edge\"><title>(pickup_longitude * 3.1415 ....&#45;&gt;pickup_longitude</title>\n",
       "<path fill=\"none\" stroke=\"black\" d=\"M607.291,-143.697C608.086,-135.983 608.313,-126.712 607.97,-118.112\"/>\n",
       "<polygon fill=\"black\" stroke=\"black\" points=\"611.459,-117.836 607.27,-108.104 604.477,-118.324 611.459,-117.836\"/>\n",
       "</g>\n",
       "<!-- ((dropoff_longitude * 3.14 .... -->\n",
       "<g id=\"node26\" class=\"node\"><title>((dropoff_longitude * 3.14 ....</title>\n",
       "<ellipse fill=\"none\" stroke=\"black\" cx=\"854.375\" cy=\"-234\" rx=\"115.627\" ry=\"18\"/>\n",
       "<text text-anchor=\"middle\" x=\"854.375\" y=\"-229.8\" font-family=\"Times,serif\" font-size=\"14.00\">((dropoff_longitude * 3.14 ....</text>\n",
       "</g>\n",
       "<!-- cos(((dropoff_longitude * &#160;....&#45;&gt;((dropoff_longitude * 3.14 .... -->\n",
       "<g id=\"edge18\" class=\"edge\"><title>cos(((dropoff_longitude * &#160;....&#45;&gt;((dropoff_longitude * 3.14 ....</title>\n",
       "<path fill=\"none\" stroke=\"black\" d=\"M846.954,-287.697C846.378,-279.983 846.417,-270.712 847.005,-262.112\"/>\n",
       "<polygon fill=\"black\" stroke=\"black\" points=\"850.494,-262.399 847.991,-252.104 843.527,-261.713 850.494,-262.399\"/>\n",
       "</g>\n",
       "<!-- cos(((dropoff_longitude * &#160;....&#45;&gt;((dropoff_longitude * 3.14 .... -->\n",
       "<g id=\"edge46\" class=\"edge\"><title>cos(((dropoff_longitude * &#160;....&#45;&gt;((dropoff_longitude * 3.14 ....</title>\n",
       "<path fill=\"none\" stroke=\"black\" d=\"M858.785,-287.697C859.801,-279.983 860.292,-270.712 860.196,-262.112\"/>\n",
       "<polygon fill=\"black\" stroke=\"black\" points=\"863.692,-261.951 859.781,-252.104 856.698,-262.241 863.692,-261.951\"/>\n",
       "</g>\n",
       "<!-- (dropoff_longitude * 3.141 .... -->\n",
       "<g id=\"node27\" class=\"node\"><title>(dropoff_longitude * 3.141 ....</title>\n",
       "<ellipse fill=\"none\" stroke=\"black\" cx=\"855.375\" cy=\"-162\" rx=\"117.08\" ry=\"18\"/>\n",
       "<text text-anchor=\"middle\" x=\"855.375\" y=\"-157.8\" font-family=\"Times,serif\" font-size=\"14.00\">(dropoff_longitude * 3.141 ....</text>\n",
       "</g>\n",
       "<!-- ((dropoff_longitude * 3.14 ....&#45;&gt;(dropoff_longitude * 3.141 .... -->\n",
       "<g id=\"edge17\" class=\"edge\"><title>((dropoff_longitude * 3.14 ....&#45;&gt;(dropoff_longitude * 3.141 ....</title>\n",
       "<path fill=\"none\" stroke=\"black\" d=\"M848.706,-215.697C848.021,-207.983 847.927,-198.712 848.392,-190.112\"/>\n",
       "<polygon fill=\"black\" stroke=\"black\" points=\"851.883,-190.363 849.235,-180.104 844.908,-189.775 851.883,-190.363\"/>\n",
       "</g>\n",
       "<!-- ((dropoff_longitude * 3.14 ....&#45;&gt;(dropoff_longitude * 3.141 .... -->\n",
       "<g id=\"edge45\" class=\"edge\"><title>((dropoff_longitude * 3.14 ....&#45;&gt;(dropoff_longitude * 3.141 ....</title>\n",
       "<path fill=\"none\" stroke=\"black\" d=\"M860.538,-215.697C861.444,-207.983 861.803,-198.712 861.583,-190.112\"/>\n",
       "<polygon fill=\"black\" stroke=\"black\" points=\"865.076,-189.894 861.026,-180.104 858.087,-190.283 865.076,-189.894\"/>\n",
       "</g>\n",
       "<!-- (dropoff_longitude * 3.141 ....&#45;&gt;dropoff_longitude -->\n",
       "<g id=\"edge16\" class=\"edge\"><title>(dropoff_longitude * 3.141 ....&#45;&gt;dropoff_longitude</title>\n",
       "<path fill=\"none\" stroke=\"black\" d=\"M849.459,-143.697C848.663,-135.983 848.437,-126.712 848.78,-118.112\"/>\n",
       "<polygon fill=\"black\" stroke=\"black\" points=\"852.273,-118.324 849.48,-108.104 845.29,-117.836 852.273,-118.324\"/>\n",
       "</g>\n",
       "<!-- (dropoff_longitude * 3.141 ....&#45;&gt;dropoff_longitude -->\n",
       "<g id=\"edge44\" class=\"edge\"><title>(dropoff_longitude * 3.141 ....&#45;&gt;dropoff_longitude</title>\n",
       "<path fill=\"none\" stroke=\"black\" d=\"M861.291,-143.697C862.086,-135.983 862.313,-126.712 861.97,-118.112\"/>\n",
       "<polygon fill=\"black\" stroke=\"black\" points=\"865.459,-117.836 861.27,-108.104 858.477,-118.324 865.459,-117.836\"/>\n",
       "</g>\n",
       "<!-- sin(((((dropoff_latitude &#45; .... -->\n",
       "<g id=\"node29\" class=\"node\"><title>sin(((((dropoff_latitude &#45; ....</title>\n",
       "<ellipse fill=\"none\" stroke=\"black\" cx=\"275.375\" cy=\"-378\" rx=\"108.844\" ry=\"18\"/>\n",
       "<text text-anchor=\"middle\" x=\"275.375\" y=\"-373.8\" font-family=\"Times,serif\" font-size=\"14.00\">sin(((((dropoff_latitude &#45; ....</text>\n",
       "</g>\n",
       "<!-- (sin(((((dropoff_latitude &#160;....&#45;&gt;sin(((((dropoff_latitude &#45; .... -->\n",
       "<g id=\"edge27\" class=\"edge\"><title>(sin(((((dropoff_latitude &#160;....&#45;&gt;sin(((((dropoff_latitude &#45; ....</title>\n",
       "<path fill=\"none\" stroke=\"black\" d=\"M305.877,-432.055C299.437,-423.922 292.41,-413.998 286.619,-404.943\"/>\n",
       "<polygon fill=\"black\" stroke=\"black\" points=\"289.517,-402.973 281.308,-396.275 283.549,-406.631 289.517,-402.973\"/>\n",
       "</g>\n",
       "<!-- (sin(((((dropoff_latitude &#160;....&#45;&gt;sin(((((dropoff_latitude &#45; .... -->\n",
       "<g id=\"edge55\" class=\"edge\"><title>(sin(((((dropoff_latitude &#160;....&#45;&gt;sin(((((dropoff_latitude &#45; ....</title>\n",
       "<path fill=\"none\" stroke=\"black\" d=\"M317.425,-431.697C312.586,-423.389 305.849,-413.277 299.12,-404.141\"/>\n",
       "<polygon fill=\"black\" stroke=\"black\" points=\"301.843,-401.938 292.999,-396.104 296.274,-406.18 301.843,-401.938\"/>\n",
       "</g>\n",
       "<!-- ((((dropoff_latitude &#45; pic .... -->\n",
       "<g id=\"node30\" class=\"node\"><title>((((dropoff_latitude &#45; pic ....</title>\n",
       "<ellipse fill=\"none\" stroke=\"black\" cx=\"193.375\" cy=\"-306\" rx=\"108.343\" ry=\"18\"/>\n",
       "<text text-anchor=\"middle\" x=\"193.375\" y=\"-301.8\" font-family=\"Times,serif\" font-size=\"14.00\">((((dropoff_latitude &#45; pic ....</text>\n",
       "</g>\n",
       "<!-- sin(((((dropoff_latitude &#45; ....&#45;&gt;((((dropoff_latitude &#45; pic .... -->\n",
       "<g id=\"edge26\" class=\"edge\"><title>sin(((((dropoff_latitude &#45; ....&#45;&gt;((((dropoff_latitude &#45; pic ....</title>\n",
       "<path fill=\"none\" stroke=\"black\" d=\"M250.102,-360.411C238.77,-351.562 225.636,-340.518 214.792,-330.773\"/>\n",
       "<polygon fill=\"black\" stroke=\"black\" points=\"217.094,-328.135 207.358,-323.956 212.363,-333.295 217.094,-328.135\"/>\n",
       "</g>\n",
       "<!-- sin(((((dropoff_latitude &#45; ....&#45;&gt;((((dropoff_latitude &#45; pic .... -->\n",
       "<g id=\"edge54\" class=\"edge\"><title>sin(((((dropoff_latitude &#45; ....&#45;&gt;((((dropoff_latitude &#45; pic ....</title>\n",
       "<path fill=\"none\" stroke=\"black\" d=\"M261.403,-360.055C251.807,-351.047 238.851,-339.842 226.768,-330.053\"/>\n",
       "<polygon fill=\"black\" stroke=\"black\" points=\"228.598,-327.037 218.594,-323.547 224.239,-332.514 228.598,-327.037\"/>\n",
       "</g>\n",
       "<!-- (((dropoff_latitude &#45; pick .... -->\n",
       "<g id=\"node31\" class=\"node\"><title>(((dropoff_latitude &#45; pick ....</title>\n",
       "<ellipse fill=\"none\" stroke=\"black\" cx=\"135.375\" cy=\"-234\" rx=\"109.796\" ry=\"18\"/>\n",
       "<text text-anchor=\"middle\" x=\"135.375\" y=\"-229.8\" font-family=\"Times,serif\" font-size=\"14.00\">(((dropoff_latitude &#45; pick ....</text>\n",
       "</g>\n",
       "<!-- ((((dropoff_latitude &#45; pic ....&#45;&gt;(((dropoff_latitude &#45; pick .... -->\n",
       "<g id=\"edge25\" class=\"edge\"><title>((((dropoff_latitude &#45; pic ....&#45;&gt;(((dropoff_latitude &#45; pick ....</title>\n",
       "<path fill=\"none\" stroke=\"black\" d=\"M173.456,-288.055C165.696,-279.753 157.057,-269.584 149.884,-260.378\"/>\n",
       "<polygon fill=\"black\" stroke=\"black\" points=\"152.591,-258.153 143.776,-252.275 147.001,-262.367 152.591,-258.153\"/>\n",
       "</g>\n",
       "<!-- ((((dropoff_latitude &#45; pic ....&#45;&gt;(((dropoff_latitude &#45; pick .... -->\n",
       "<g id=\"edge53\" class=\"edge\"><title>((((dropoff_latitude &#45; pic ....&#45;&gt;(((dropoff_latitude &#45; pick ....</title>\n",
       "<path fill=\"none\" stroke=\"black\" d=\"M184.954,-287.697C178.804,-279.22 170.41,-268.864 162.22,-259.583\"/>\n",
       "<polygon fill=\"black\" stroke=\"black\" points=\"164.751,-257.163 155.442,-252.104 159.565,-261.864 164.751,-257.163\"/>\n",
       "</g>\n",
       "<!-- ((dropoff_latitude &#45; picku .... -->\n",
       "<g id=\"node32\" class=\"node\"><title>((dropoff_latitude &#45; picku ....</title>\n",
       "<ellipse fill=\"none\" stroke=\"black\" cx=\"111.375\" cy=\"-162\" rx=\"111.25\" ry=\"18\"/>\n",
       "<text text-anchor=\"middle\" x=\"111.375\" y=\"-157.8\" font-family=\"Times,serif\" font-size=\"14.00\">((dropoff_latitude &#45; picku ....</text>\n",
       "</g>\n",
       "<!-- (((dropoff_latitude &#45; pick ....&#45;&gt;((dropoff_latitude &#45; picku .... -->\n",
       "<g id=\"edge24\" class=\"edge\"><title>(((dropoff_latitude &#45; pick ....&#45;&gt;((dropoff_latitude &#45; picku ....</title>\n",
       "<path fill=\"none\" stroke=\"black\" d=\"M123.687,-216.055C120.188,-208.261 116.713,-198.822 114.065,-190.079\"/>\n",
       "<polygon fill=\"black\" stroke=\"black\" points=\"117.398,-188.998 111.385,-180.275 110.646,-190.844 117.398,-188.998\"/>\n",
       "</g>\n",
       "<!-- (((dropoff_latitude &#45; pick ....&#45;&gt;((dropoff_latitude &#45; picku .... -->\n",
       "<g id=\"edge52\" class=\"edge\"><title>(((dropoff_latitude &#45; pick ....&#45;&gt;((dropoff_latitude &#45; picku ....</title>\n",
       "<path fill=\"none\" stroke=\"black\" d=\"M135.358,-215.697C133.468,-207.813 130.427,-198.304 127.048,-189.546\"/>\n",
       "<polygon fill=\"black\" stroke=\"black\" points=\"130.197,-188.002 123.134,-180.104 123.731,-190.682 130.197,-188.002\"/>\n",
       "</g>\n",
       "<!-- (dropoff_latitude &#45; pickup .... -->\n",
       "<g id=\"node33\" class=\"node\"><title>(dropoff_latitude &#45; pickup ....</title>\n",
       "<ellipse fill=\"none\" stroke=\"black\" cx=\"119.375\" cy=\"-90\" rx=\"112.704\" ry=\"18\"/>\n",
       "<text text-anchor=\"middle\" x=\"119.375\" y=\"-85.8\" font-family=\"Times,serif\" font-size=\"14.00\">(dropoff_latitude &#45; pickup ....</text>\n",
       "</g>\n",
       "<!-- ((dropoff_latitude &#45; picku ....&#45;&gt;(dropoff_latitude &#45; pickup .... -->\n",
       "<g id=\"edge23\" class=\"edge\"><title>((dropoff_latitude &#45; picku ....&#45;&gt;(dropoff_latitude &#45; pickup ....</title>\n",
       "<path fill=\"none\" stroke=\"black\" d=\"M107.437,-143.697C107.523,-135.983 108.356,-126.712 109.681,-118.112\"/>\n",
       "<polygon fill=\"black\" stroke=\"black\" points=\"113.155,-118.573 111.525,-108.104 106.271,-117.305 113.155,-118.573\"/>\n",
       "</g>\n",
       "<!-- ((dropoff_latitude &#45; picku ....&#45;&gt;(dropoff_latitude &#45; pickup .... -->\n",
       "<g id=\"edge51\" class=\"edge\"><title>((dropoff_latitude &#45; picku ....&#45;&gt;(dropoff_latitude &#45; pickup ....</title>\n",
       "<path fill=\"none\" stroke=\"black\" d=\"M119.268,-143.697C120.945,-135.983 122.231,-126.712 122.872,-118.112\"/>\n",
       "<polygon fill=\"black\" stroke=\"black\" points=\"126.369,-118.25 123.315,-108.104 119.376,-117.94 126.369,-118.25\"/>\n",
       "</g>\n",
       "<!-- dropoff_latitude -->\n",
       "<g id=\"node34\" class=\"node\"><title>dropoff_latitude</title>\n",
       "<ellipse fill=\"none\" stroke=\"black\" cx=\"119.375\" cy=\"-18\" rx=\"67.3334\" ry=\"18\"/>\n",
       "<text text-anchor=\"middle\" x=\"119.375\" y=\"-13.8\" font-family=\"Times,serif\" font-size=\"14.00\">dropoff_latitude</text>\n",
       "</g>\n",
       "<!-- (dropoff_latitude &#45; pickup ....&#45;&gt;dropoff_latitude -->\n",
       "<g id=\"edge21\" class=\"edge\"><title>(dropoff_latitude &#45; pickup ....&#45;&gt;dropoff_latitude</title>\n",
       "<path fill=\"none\" stroke=\"black\" d=\"M113.459,-71.6966C112.663,-63.9827 112.437,-54.7125 112.78,-46.1124\"/>\n",
       "<polygon fill=\"black\" stroke=\"black\" points=\"116.273,-46.3243 113.48,-36.1043 109.29,-45.8356 116.273,-46.3243\"/>\n",
       "</g>\n",
       "<!-- (dropoff_latitude &#45; pickup ....&#45;&gt;dropoff_latitude -->\n",
       "<g id=\"edge49\" class=\"edge\"><title>(dropoff_latitude &#45; pickup ....&#45;&gt;dropoff_latitude</title>\n",
       "<path fill=\"none\" stroke=\"black\" d=\"M125.291,-71.6966C126.086,-63.9827 126.313,-54.7125 125.97,-46.1124\"/>\n",
       "<polygon fill=\"black\" stroke=\"black\" points=\"129.459,-45.8356 125.27,-36.1043 122.477,-46.3243 129.459,-45.8356\"/>\n",
       "</g>\n",
       "<!-- pickup_latitude -->\n",
       "<g id=\"node35\" class=\"node\"><title>pickup_latitude</title>\n",
       "<ellipse fill=\"none\" stroke=\"black\" cx=\"270.375\" cy=\"-18\" rx=\"65.239\" ry=\"18\"/>\n",
       "<text text-anchor=\"middle\" x=\"270.375\" y=\"-13.8\" font-family=\"Times,serif\" font-size=\"14.00\">pickup_latitude</text>\n",
       "</g>\n",
       "<!-- (dropoff_latitude &#45; pickup ....&#45;&gt;pickup_latitude -->\n",
       "<g id=\"edge22\" class=\"edge\"><title>(dropoff_latitude &#45; pickup ....&#45;&gt;pickup_latitude</title>\n",
       "<path fill=\"none\" stroke=\"black\" d=\"M148.957,-72.5881C170.736,-61.9459 200.602,-48.0738 225.313,-37.11\"/>\n",
       "<polygon fill=\"black\" stroke=\"black\" points=\"226.762,-40.2963 234.503,-33.0633 223.941,-33.8899 226.762,-40.2963\"/>\n",
       "</g>\n",
       "<!-- (dropoff_latitude &#45; pickup ....&#45;&gt;pickup_latitude -->\n",
       "<g id=\"edge50\" class=\"edge\"><title>(dropoff_latitude &#45; pickup ....&#45;&gt;pickup_latitude</title>\n",
       "<path fill=\"none\" stroke=\"black\" d=\"M159.4,-73.1159C182.5,-62.9508 211.252,-49.6825 233.754,-38.8281\"/>\n",
       "<polygon fill=\"black\" stroke=\"black\" points=\"235.519,-41.8618 242.981,-34.3402 232.457,-35.567 235.519,-41.8618\"/>\n",
       "</g>\n",
       "<!-- (1 &#45; ((sin(((((dropoff_lon .... -->\n",
       "<g id=\"node37\" class=\"node\"><title>(1 &#45; ((sin(((((dropoff_lon ....</title>\n",
       "<ellipse fill=\"none\" stroke=\"black\" cx=\"860.375\" cy=\"-666\" rx=\"108.836\" ry=\"18\"/>\n",
       "<text text-anchor=\"middle\" x=\"860.375\" y=\"-661.8\" font-family=\"Times,serif\" font-size=\"14.00\">(1 &#45; ((sin(((((dropoff_lon ....</text>\n",
       "</g>\n",
       "<!-- sqrt((1 &#45; ((sin(((((dropof ....&#45;&gt;(1 &#45; ((sin(((((dropoff_lon .... -->\n",
       "<g id=\"edge59\" class=\"edge\"><title>sqrt((1 &#45; ((sin(((((dropof ....&#45;&gt;(1 &#45; ((sin(((((dropoff_lon ....</title>\n",
       "<path fill=\"none\" stroke=\"black\" d=\"M840.802,-719.697C843.73,-711.813 847.262,-702.304 850.515,-693.546\"/>\n",
       "<polygon fill=\"black\" stroke=\"black\" points=\"853.821,-694.697 854.022,-684.104 847.259,-692.26 853.821,-694.697\"/>\n",
       "</g>\n",
       "<!-- (1 &#45; ((sin(((((dropoff_lon ....&#45;&gt;((sin(((((dropoff_longitud .... -->\n",
       "<g id=\"edge58\" class=\"edge\"><title>(1 &#45; ((sin(((((dropoff_lon ....&#45;&gt;((sin(((((dropoff_longitud ....</title>\n",
       "<path fill=\"none\" stroke=\"black\" d=\"M832.475,-648.588C816.329,-639.091 795.809,-627.02 778.334,-616.741\"/>\n",
       "<polygon fill=\"black\" stroke=\"black\" points=\"779.907,-613.605 769.513,-611.552 776.357,-619.639 779.907,-613.605\"/>\n",
       "</g>\n",
       "<!-- arc_distance_jit -->\n",
       "<g id=\"node38\" class=\"node\"><title>arc_distance_jit</title>\n",
       "<ellipse fill=\"none\" stroke=\"black\" cx=\"352.375\" cy=\"-234\" rx=\"66.1821\" ry=\"18\"/>\n",
       "<text text-anchor=\"middle\" x=\"352.375\" y=\"-229.8\" font-family=\"Times,serif\" font-size=\"14.00\">arc_distance_jit</text>\n",
       "</g>\n",
       "<!-- _jit(pickup_latitude, drop .... -->\n",
       "<g id=\"node39\" class=\"node\"><title>_jit(pickup_latitude, drop ....</title>\n",
       "<ellipse fill=\"none\" stroke=\"black\" cx=\"352.375\" cy=\"-162\" rx=\"111.587\" ry=\"18\"/>\n",
       "<text text-anchor=\"middle\" x=\"352.375\" y=\"-157.8\" font-family=\"Times,serif\" font-size=\"14.00\">_jit(pickup_latitude, drop ....</text>\n",
       "</g>\n",
       "<!-- arc_distance_jit&#45;&gt;_jit(pickup_latitude, drop .... -->\n",
       "<g id=\"edge69\" class=\"edge\"><title>arc_distance_jit&#45;&gt;_jit(pickup_latitude, drop ....</title>\n",
       "<path fill=\"none\" stroke=\"black\" d=\"M352.375,-215.697C352.375,-207.983 352.375,-198.712 352.375,-190.112\"/>\n",
       "<polygon fill=\"black\" stroke=\"black\" points=\"355.875,-190.104 352.375,-180.104 348.875,-190.104 355.875,-190.104\"/>\n",
       "</g>\n",
       "<!-- _jit(pickup_latitude, drop ....&#45;&gt;dropoff_longitude -->\n",
       "<g id=\"edge66\" class=\"edge\"><title>_jit(pickup_latitude, drop ....&#45;&gt;dropoff_longitude</title>\n",
       "<path fill=\"none\" stroke=\"black\" d=\"M433.405,-149.596C446.758,-147.722 460.454,-145.804 473.375,-144 580.943,-128.981 705.57,-111.715 782.446,-101.08\"/>\n",
       "<polygon fill=\"black\" stroke=\"black\" points=\"783.08,-104.526 792.506,-99.6889 782.121,-97.5922 783.08,-104.526\"/>\n",
       "</g>\n",
       "<!-- _jit(pickup_latitude, drop ....&#45;&gt;pickup_longitude -->\n",
       "<g id=\"edge67\" class=\"edge\"><title>_jit(pickup_latitude, drop ....&#45;&gt;pickup_longitude</title>\n",
       "<path fill=\"none\" stroke=\"black\" d=\"M405.486,-146.069C446.742,-134.471 503.793,-118.433 545.687,-106.655\"/>\n",
       "<polygon fill=\"black\" stroke=\"black\" points=\"546.776,-109.985 555.455,-103.909 544.881,-103.246 546.776,-109.985\"/>\n",
       "</g>\n",
       "<!-- _jit(pickup_latitude, drop ....&#45;&gt;dropoff_latitude -->\n",
       "<g id=\"edge68\" class=\"edge\"><title>_jit(pickup_latitude, drop ....&#45;&gt;dropoff_latitude</title>\n",
       "<path fill=\"none\" stroke=\"black\" d=\"M334.262,-143.935C313.17,-124.69 276.695,-93.3081 241.375,-72 218.191,-58.0133 190.652,-45.7208 167.61,-36.5045\"/>\n",
       "<polygon fill=\"black\" stroke=\"black\" points=\"168.624,-33.1425 158.036,-32.7471 166.066,-39.6586 168.624,-33.1425\"/>\n",
       "</g>\n",
       "<!-- _jit(pickup_latitude, drop ....&#45;&gt;pickup_latitude -->\n",
       "<g id=\"edge65\" class=\"edge\"><title>_jit(pickup_latitude, drop ....&#45;&gt;pickup_latitude</title>\n",
       "<path fill=\"none\" stroke=\"black\" d=\"M342.484,-143.871C328.262,-119.244 301.926,-73.6377 285.322,-44.8845\"/>\n",
       "<polygon fill=\"black\" stroke=\"black\" points=\"288.333,-43.0988 280.301,-36.1893 282.271,-46.5994 288.333,-43.0988\"/>\n",
       "</g>\n",
       "</g>\n",
       "</svg>\n"
      ],
      "text/plain": [
       "<graphviz.dot.Digraph at 0xc8da33c88>"
      ]
     },
     "execution_count": 31,
     "metadata": {},
     "output_type": "execute_result"
    }
   ],
   "source": [
    "df._graphviz()"
   ]
  },
  {
   "cell_type": "markdown",
   "metadata": {},
   "source": [
    "# 1 billion rows?"
   ]
  },
  {
   "cell_type": "code",
   "execution_count": 32,
   "metadata": {},
   "outputs": [
    {
     "name": "stdout",
     "output_type": "stream",
     "text": [
      "-rw-r--r--@ 1 maartenbreddels  staff   135G Jun  6  2018 /Users/maartenbreddels/datasets/nytaxi/nyc_taxi_all.hdf5\r\n"
     ]
    }
   ],
   "source": [
    "!ls -lh '/Users/maartenbreddels/datasets/nytaxi/nyc_taxi_all.hdf5'"
   ]
  },
  {
   "cell_type": "code",
   "execution_count": 33,
   "metadata": {},
   "outputs": [],
   "source": [
    "df1b = vaex.open('/Users/maartenbreddels/datasets/nytaxi/nyc_taxi_all.hdf5')"
   ]
  },
  {
   "cell_type": "code",
   "execution_count": 34,
   "metadata": {},
   "outputs": [
    {
     "data": {
      "text/html": [
       "<table>\n",
       "<thead>\n",
       "<tr><th>#                                        </th><th>dropoff_dayofweek  </th><th>dropoff_hour  </th><th>dropoff_latitude  </th><th>dropoff_longitude  </th><th>fare_amount  </th><th>mta_tax  </th><th>passenger_count  </th><th>payment_type  </th><th>pickup_dayofweek  </th><th>pickup_hour  </th><th>pickup_latitude   </th><th>pickup_longitude  </th><th>tip_amount  </th><th>tolls_amount  </th><th>total_amount  </th><th>tpep_dropoff_datetime        </th><th>tpep_pickup_datetime         </th><th>trip_distance  </th></tr>\n",
       "</thead>\n",
       "<tbody>\n",
       "<tr><td><i style='opacity: 0.6'>0</i>            </td><td>3.0                </td><td>19.0          </td><td>40.75061798095703 </td><td>-73.97478485107422 </td><td>12.0         </td><td>0.5      </td><td>1                </td><td>1             </td><td>3.0               </td><td>19.0         </td><td>40.7501106262207  </td><td>-73.993896484375  </td><td>3.25        </td><td>0.0           </td><td>17.05         </td><td>2015-01-15T19:23:42.000000000</td><td>2015-01-15T19:05:39.000000000</td><td>1.59           </td></tr>\n",
       "<tr><td><i style='opacity: 0.6'>1</i>            </td><td>5.0                </td><td>20.0          </td><td>40.75910949707031 </td><td>-73.99441528320312 </td><td>14.5         </td><td>0.5      </td><td>1                </td><td>1             </td><td>5.0               </td><td>20.0         </td><td>40.7242431640625  </td><td>-74.00164794921875</td><td>2.0         </td><td>0.0           </td><td>17.8          </td><td>2015-01-10T20:53:28.000000000</td><td>2015-01-10T20:33:38.000000000</td><td>3.3            </td></tr>\n",
       "<tr><td><i style='opacity: 0.6'>2</i>            </td><td>5.0                </td><td>20.0          </td><td>40.82441329956055 </td><td>-73.95182037353516 </td><td>9.5          </td><td>0.5      </td><td>1                </td><td>2             </td><td>5.0               </td><td>20.0         </td><td>40.80278778076172 </td><td>-73.96334075927734</td><td>0.0         </td><td>0.0           </td><td>10.8          </td><td>2015-01-10T20:43:41.000000000</td><td>2015-01-10T20:33:38.000000000</td><td>1.8            </td></tr>\n",
       "<tr><td><i style='opacity: 0.6'>3</i>            </td><td>5.0                </td><td>20.0          </td><td>40.71998596191406 </td><td>-74.00432586669923 </td><td>3.5          </td><td>0.5      </td><td>1                </td><td>2             </td><td>5.0               </td><td>20.0         </td><td>40.71381759643555 </td><td>-74.00908660888672</td><td>0.0         </td><td>0.0           </td><td>4.8           </td><td>2015-01-10T20:35:31.000000000</td><td>2015-01-10T20:33:39.000000000</td><td>0.5            </td></tr>\n",
       "<tr><td><i style='opacity: 0.6'>4</i>            </td><td>5.0                </td><td>20.0          </td><td>40.742652893066406</td><td>-74.00418090820312 </td><td>15.0         </td><td>0.5      </td><td>1                </td><td>2             </td><td>5.0               </td><td>20.0         </td><td>40.762428283691406</td><td>-73.97117614746094</td><td>0.0         </td><td>0.0           </td><td>16.3          </td><td>2015-01-10T20:52:58.000000000</td><td>2015-01-10T20:33:39.000000000</td><td>3.0            </td></tr>\n",
       "<tr><td>...                                      </td><td>...                </td><td>...           </td><td>...               </td><td>...                </td><td>...          </td><td>...      </td><td>...              </td><td>...           </td><td>...               </td><td>...          </td><td>...               </td><td>...               </td><td>...         </td><td>...           </td><td>...           </td><td>...                          </td><td>...                          </td><td>...            </td></tr>\n",
       "<tr><td><i style='opacity: 0.6'>1,008,842,980</i></td><td>5.0                </td><td>8.0           </td><td>40.774517         </td><td>-73.870063         </td><td>28.1         </td><td>0.5      </td><td>1                </td><td>0             </td><td>5.0               </td><td>8.0          </td><td>40.771608         </td><td>-73.98265999999998</td><td>0.0         </td><td>5.5           </td><td>34.1          </td><td>2010-03-20T08:41:00.000000000</td><td>2010-03-20T08:15:00.000000000</td><td>11.15          </td></tr>\n",
       "<tr><td><i style='opacity: 0.6'>1,008,842,981</i></td><td>1.0                </td><td>14.0          </td><td>40.757468         </td><td>-73.97167          </td><td>7.3          </td><td>0.5      </td><td>1                </td><td>1             </td><td>1.0               </td><td>14.0         </td><td>40.759042         </td><td>-73.98585         </td><td>0.0         </td><td>0.0           </td><td>7.8           </td><td>2010-03-16T14:41:00.000000000</td><td>2010-03-16T14:30:00.000000000</td><td>1.02           </td></tr>\n",
       "<tr><td><i style='opacity: 0.6'>1,008,842,982</i></td><td>4.0                </td><td>22.0          </td><td>40.754197         </td><td>-73.991538         </td><td>3.3          </td><td>0.5      </td><td>1                </td><td>1             </td><td>4.0               </td><td>22.0         </td><td>40.75184          </td><td>-73.98651499999998</td><td>0.0         </td><td>0.0           </td><td>4.3           </td><td>2010-03-19T22:40:00.000000000</td><td>2010-03-19T22:38:00.000000000</td><td>0.31           </td></tr>\n",
       "<tr><td><i style='opacity: 0.6'>1,008,842,983</i></td><td>3.0                </td><td>14.0          </td><td>40.738565         </td><td>-73.98636          </td><td>5.3          </td><td>0.5      </td><td>2                </td><td>0             </td><td>3.0               </td><td>14.0         </td><td>40.742438         </td><td>-73.977537        </td><td>2.0         </td><td>0.0           </td><td>7.8           </td><td>2010-03-18T14:47:00.000000000</td><td>2010-03-18T14:41:00.000000000</td><td>0.72           </td></tr>\n",
       "<tr><td><i style='opacity: 0.6'>1,008,842,984</i></td><td>4.0                </td><td>19.0          </td><td>40.744073         </td><td>-73.991922         </td><td>5.7          </td><td>0.5      </td><td>5                </td><td>1             </td><td>4.0               </td><td>19.0         </td><td>40.726877         </td><td>-74.00341799999998</td><td>0.0         </td><td>0.0           </td><td>7.2           </td><td>2010-03-19T19:21:00.000000000</td><td>2010-03-19T19:14:00.000000000</td><td>1.37           </td></tr>\n",
       "</tbody>\n",
       "</table>"
      ],
      "text/plain": [
       "#              dropoff_dayofweek    dropoff_hour    dropoff_latitude    dropoff_longitude    fare_amount    mta_tax    passenger_count    payment_type    pickup_dayofweek    pickup_hour    pickup_latitude     pickup_longitude    tip_amount    tolls_amount    total_amount    tpep_dropoff_datetime          tpep_pickup_datetime           trip_distance\n",
       "0              3.0                  19.0            40.75061798095703   -73.97478485107422   12.0           0.5        1                  1               3.0                 19.0           40.7501106262207    -73.993896484375    3.25          0.0             17.05           2015-01-15T19:23:42.000000000  2015-01-15T19:05:39.000000000  1.59\n",
       "1              5.0                  20.0            40.75910949707031   -73.99441528320312   14.5           0.5        1                  1               5.0                 20.0           40.7242431640625    -74.00164794921875  2.0           0.0             17.8            2015-01-10T20:53:28.000000000  2015-01-10T20:33:38.000000000  3.3\n",
       "2              5.0                  20.0            40.82441329956055   -73.95182037353516   9.5            0.5        1                  2               5.0                 20.0           40.80278778076172   -73.96334075927734  0.0           0.0             10.8            2015-01-10T20:43:41.000000000  2015-01-10T20:33:38.000000000  1.8\n",
       "3              5.0                  20.0            40.71998596191406   -74.00432586669923   3.5            0.5        1                  2               5.0                 20.0           40.71381759643555   -74.00908660888672  0.0           0.0             4.8             2015-01-10T20:35:31.000000000  2015-01-10T20:33:39.000000000  0.5\n",
       "4              5.0                  20.0            40.742652893066406  -74.00418090820312   15.0           0.5        1                  2               5.0                 20.0           40.762428283691406  -73.97117614746094  0.0           0.0             16.3            2015-01-10T20:52:58.000000000  2015-01-10T20:33:39.000000000  3.0\n",
       "...            ...                  ...             ...                 ...                  ...            ...        ...                ...             ...                 ...            ...                 ...                 ...           ...             ...             ...                            ...                            ...\n",
       "1,008,842,980  5.0                  8.0             40.774517           -73.870063           28.1           0.5        1                  0               5.0                 8.0            40.771608           -73.98265999999998  0.0           5.5             34.1            2010-03-20T08:41:00.000000000  2010-03-20T08:15:00.000000000  11.15\n",
       "1,008,842,981  1.0                  14.0            40.757468           -73.97167            7.3            0.5        1                  1               1.0                 14.0           40.759042           -73.98585           0.0           0.0             7.8             2010-03-16T14:41:00.000000000  2010-03-16T14:30:00.000000000  1.02\n",
       "1,008,842,982  4.0                  22.0            40.754197           -73.991538           3.3            0.5        1                  1               4.0                 22.0           40.75184            -73.98651499999998  0.0           0.0             4.3             2010-03-19T22:40:00.000000000  2010-03-19T22:38:00.000000000  0.31\n",
       "1,008,842,983  3.0                  14.0            40.738565           -73.98636            5.3            0.5        2                  0               3.0                 14.0           40.742438           -73.977537          2.0           0.0             7.8             2010-03-18T14:47:00.000000000  2010-03-18T14:41:00.000000000  0.72\n",
       "1,008,842,984  4.0                  19.0            40.744073           -73.991922           5.7            0.5        5                  1               4.0                 19.0           40.726877           -74.00341799999998  0.0           0.0             7.2             2010-03-19T19:21:00.000000000  2010-03-19T19:14:00.000000000  1.37"
      ]
     },
     "execution_count": 34,
     "metadata": {},
     "output_type": "execute_result"
    }
   ],
   "source": [
    "df1b"
   ]
  },
  {
   "cell_type": "code",
   "execution_count": 35,
   "metadata": {},
   "outputs": [],
   "source": [
    "df1b['tip_percentage'] = df1b.tip_amount/df1b.total_amount"
   ]
  },
  {
   "cell_type": "code",
   "execution_count": 36,
   "metadata": {},
   "outputs": [
    {
     "name": "stdout",
     "output_type": "stream",
     "text": [
      "[########################################]:  100.00% elapsed time  :       22s =  0.4m =  0.0h    \n",
      " "
     ]
    },
    {
     "data": {
      "text/plain": [
       "0.203933458561028"
      ]
     },
     "execution_count": 36,
     "metadata": {},
     "output_type": "execute_result"
    }
   ],
   "source": [
    "df1b[df1b.tip_amount > 10].tip_percentage.mean(progress=True)"
   ]
  },
  {
   "cell_type": "code",
   "execution_count": 37,
   "metadata": {},
   "outputs": [
    {
     "data": {
      "application/vnd.jupyter.widget-view+json": {
       "model_id": "8490b9f03c1a4f12bf49224dc8c9a235",
       "version_major": 2,
       "version_minor": 0
      },
      "text/plain": [
       "VBox(children=(HBox(children=(VBox(children=(VBox(children=(VBox(children=(HBox(children=(ToggleButtons(icons=…"
      ]
     },
     "metadata": {},
     "output_type": "display_data"
    }
   ],
   "source": [
    "df1b.plot_widget(df1b.pickup_longitude, df1b.pickup_latitude, f='log', controls_selection=True)"
   ]
  },
  {
   "cell_type": "code",
   "execution_count": null,
   "metadata": {},
   "outputs": [],
   "source": [
    "# df_remote = vaex.open('ws://gaia:10000/nyc_taxi2015')"
   ]
  },
  {
   "cell_type": "code",
   "execution_count": null,
   "metadata": {},
   "outputs": [],
   "source": []
  },
  {
   "cell_type": "code",
   "execution_count": null,
   "metadata": {},
   "outputs": [],
   "source": []
  },
  {
   "cell_type": "markdown",
   "metadata": {},
   "source": [
    "# Vaex\n",
    " * Known API (Pandas)\n",
    " * Super fast\n",
    " * Expressions, no direct computation\n",
    "   * does not waste RAM\n",
    "   * JIT-ing\n",
    "   * derivatives\n",
    "   * machine learning: no more pipelines\n",
    " * Remote datasets\n",
    "     * expressions and statistics gets transported, not data\n",
    "     "
   ]
  },
  {
   "cell_type": "code",
   "execution_count": null,
   "metadata": {},
   "outputs": [],
   "source": []
  },
  {
   "cell_type": "code",
   "execution_count": null,
   "metadata": {},
   "outputs": [],
   "source": []
  },
  {
   "cell_type": "code",
   "execution_count": null,
   "metadata": {},
   "outputs": [],
   "source": []
  },
  {
   "cell_type": "code",
   "execution_count": null,
   "metadata": {},
   "outputs": [],
   "source": []
  },
  {
   "cell_type": "code",
   "execution_count": null,
   "metadata": {},
   "outputs": [],
   "source": [
    "import vaex\n",
    "ds = vaex.open('/Users/maartenbreddels/datasets/aquarius/Aq-A-2-999-shuffled.hdf5')\n",
    "ds.set_active_fraction(0.2)\n",
    "ds.plot_widget('x', 'y', 'z', f='log', extent=[[40, 60]]*3, backend='ipyvolume', shape=100)"
   ]
  },
  {
   "cell_type": "code",
   "execution_count": null,
   "metadata": {},
   "outputs": [],
   "source": []
  },
  {
   "cell_type": "code",
   "execution_count": null,
   "metadata": {},
   "outputs": [],
   "source": []
  }
 ],
 "metadata": {
  "kernelspec": {
   "display_name": "Python 3",
   "language": "python",
   "name": "python3"
  },
  "language_info": {
   "codemirror_mode": {
    "name": "ipython",
    "version": 3
   },
   "file_extension": ".py",
   "mimetype": "text/x-python",
   "name": "python",
   "nbconvert_exporter": "python",
   "pygments_lexer": "ipython3",
   "version": "3.6.4"
  }
 },
 "nbformat": 4,
 "nbformat_minor": 2
}
